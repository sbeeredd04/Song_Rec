{
 "cells": [
  {
   "cell_type": "code",
   "execution_count": 71,
   "metadata": {},
   "outputs": [
    {
     "name": "stderr",
     "output_type": "stream",
     "text": [
      "[nltk_data] Downloading package punkt to /home/codespace/nltk_data...\n",
      "[nltk_data]   Package punkt is already up-to-date!\n"
     ]
    },
    {
     "data": {
      "text/plain": [
       "True"
      ]
     },
     "execution_count": 71,
     "metadata": {},
     "output_type": "execute_result"
    }
   ],
   "source": [
    "import nltk\n",
    "nltk.download('punkt')"
   ]
  },
  {
   "cell_type": "code",
   "execution_count": 72,
   "metadata": {},
   "outputs": [],
   "source": [
    "import nltk\n",
    "from nltk.stem import WordNetLemmatizer\n",
    "lemmatizer = WordNetLemmatizer()\n",
    "import json\n",
    "import pickle \n",
    "import warnings \n",
    "warnings.filterwarnings(\"ignore\")\n"
   ]
  },
  {
   "cell_type": "code",
   "execution_count": 73,
   "metadata": {},
   "outputs": [],
   "source": [
    "import numpy as np\n",
    "import tensorflow as tf\n",
    "from keras.models import Sequential\n",
    "from keras.layers import Dense, Activation, Dropout\n",
    "from tensorflow.keras.optimizers import SGD\n",
    "import random"
   ]
  },
  {
   "cell_type": "code",
   "execution_count": 74,
   "metadata": {},
   "outputs": [],
   "source": [
    "words=[]\n",
    "classes = []\n",
    "documents = []\n",
    "ignore_words = ['?', '!']\n",
    "data_file = open('intents/intents.json').read()\n",
    "intents = json.loads(data_file)"
   ]
  },
  {
   "cell_type": "code",
   "execution_count": 75,
   "metadata": {},
   "outputs": [],
   "source": [
    "for intent in intents['intents']:\n",
    "    for pattern in intent['patterns']:\n",
    "        \n",
    "        w = nltk.word_tokenize(pattern)\n",
    "        words.extend(w)\n",
    "        \n",
    "        documents.append((w, intent['tag']))\n",
    "        \n",
    "        if intent['tag'] not in classes:\n",
    "            classes.append(intent['tag'])"
   ]
  },
  {
   "cell_type": "code",
   "execution_count": 76,
   "metadata": {},
   "outputs": [
    {
     "name": "stderr",
     "output_type": "stream",
     "text": [
      "[nltk_data] Downloading package wordnet to\n",
      "[nltk_data]     /home/codespace/nltk_data...\n",
      "[nltk_data]   Package wordnet is already up-to-date!\n"
     ]
    },
    {
     "data": {
      "text/plain": [
       "True"
      ]
     },
     "execution_count": 76,
     "metadata": {},
     "output_type": "execute_result"
    }
   ],
   "source": [
    "nltk.download('wordnet')"
   ]
  },
  {
   "cell_type": "code",
   "execution_count": 77,
   "metadata": {},
   "outputs": [
    {
     "name": "stderr",
     "output_type": "stream",
     "text": [
      "[nltk_data] Downloading package omw-1.4 to\n",
      "[nltk_data]     /home/codespace/nltk_data...\n",
      "[nltk_data]   Package omw-1.4 is already up-to-date!\n"
     ]
    },
    {
     "data": {
      "text/plain": [
       "True"
      ]
     },
     "execution_count": 77,
     "metadata": {},
     "output_type": "execute_result"
    }
   ],
   "source": [
    "nltk.download('omw-1.4')"
   ]
  },
  {
   "cell_type": "code",
   "execution_count": 78,
   "metadata": {},
   "outputs": [
    {
     "name": "stdout",
     "output_type": "stream",
     "text": [
      "405 documents\n",
      " [(['Hi'], 'greeting'), (['How', 'are', 'you', '?'], 'greeting'), (['Is', 'anyone', 'there', '?'], 'greeting'), (['Hello'], 'greeting'), (['Good', 'day'], 'greeting'), (['What', \"'s\", 'up'], 'greeting'), (['how', 'are', 'ya'], 'greeting'), (['heyy'], 'greeting'), (['whatsup'], 'greeting'), (['?', '?', '?', '?', '?', '?', '?', '?'], 'greeting'), (['cya'], 'goodbye'), (['see', 'you'], 'goodbye'), (['bye', 'bye'], 'goodbye'), (['See', 'you', 'later'], 'goodbye'), (['Goodbye'], 'goodbye'), (['I', 'am', 'Leaving'], 'goodbye'), (['Bye'], 'goodbye'), (['Have', 'a', 'Good', 'day'], 'goodbye'), (['talk', 'to', 'you', 'later'], 'goodbye'), (['ttyl'], 'goodbye'), (['i', 'got', 'to', 'go'], 'goodbye'), (['gtg'], 'goodbye'), (['what', 'is', 'the', 'name', 'of', 'your', 'developers'], 'creator'), (['what', 'is', 'the', 'name', 'of', 'your', 'creators'], 'creator'), (['what', 'is', 'the', 'name', 'of', 'the', 'developers'], 'creator'), (['what', 'is', 'the', 'name', 'of', 'the', 'creators'], 'creator'), (['who', 'created', 'you'], 'creator'), (['your', 'developers'], 'creator'), (['your', 'creators'], 'creator'), (['who', 'are', 'your', 'developers'], 'creator'), (['developers'], 'creator'), (['you', 'are', 'made', 'by'], 'creator'), (['you', 'are', 'made', 'by', 'whom'], 'creator'), (['who', 'created', 'you'], 'creator'), (['who', 'create', 'you'], 'creator'), (['creators'], 'creator'), (['who', 'made', 'you'], 'creator'), (['who', 'designed', 'you'], 'creator'), (['name'], 'name'), (['your', 'name'], 'name'), (['do', 'you', 'have', 'a', 'name'], 'name'), (['what', 'are', 'you', 'called'], 'name'), (['what', 'is', 'your', 'name'], 'name'), (['what', 'should', 'I', 'call', 'you'], 'name'), (['whats', 'your', 'name', '?'], 'name'), (['what', 'are', 'you'], 'name'), (['who', 'are', 'you'], 'name'), (['who', 'is', 'this'], 'name'), (['what', 'am', 'i', 'chatting', 'to'], 'name'), (['who', 'am', 'i', 'taking', 'to'], 'name'), (['what', 'are', 'you'], 'name'), (['timing', 'of', 'college'], 'hours'), (['what', 'is', 'college', 'timing'], 'hours'), (['working', 'days'], 'hours'), (['when', 'are', 'you', 'guys', 'open'], 'hours'), (['what', 'are', 'your', 'hours'], 'hours'), (['hours', 'of', 'operation'], 'hours'), (['when', 'is', 'the', 'college', 'open'], 'hours'), (['college', 'timing'], 'hours'), (['what', 'about', 'college', 'timing'], 'hours'), (['is', 'college', 'open', 'on', 'saturday'], 'hours'), (['tell', 'something', 'about', 'college', 'timing'], 'hours'), (['what', 'is', 'the', 'college', 'hours'], 'hours'), (['when', 'should', 'i', 'come', 'to', 'college'], 'hours'), (['when', 'should', 'i', 'attend', 'college'], 'hours'), (['what', 'is', 'my', 'college', 'time'], 'hours'), (['college', 'timing'], 'hours'), (['timing', 'college'], 'hours'), (['more', 'info'], 'number'), (['contact', 'info'], 'number'), (['how', 'to', 'contact', 'college'], 'number'), (['college', 'telephone', 'number'], 'number'), (['college', 'number'], 'number'), (['What', 'is', 'your', 'contact', 'no'], 'number'), (['Contact', 'number', '?'], 'number'), (['how', 'to', 'call', 'you'], 'number'), (['College', 'phone', 'no', '?'], 'number'), (['how', 'can', 'i', 'contact', 'you'], 'number'), (['Can', 'i', 'get', 'your', 'phone', 'number'], 'number'), (['how', 'can', 'i', 'call', 'you'], 'number'), (['phone', 'number'], 'number'), (['phone', 'no'], 'number'), (['call'], 'number'), (['list', 'of', 'courses'], 'course'), (['list', 'of', 'courses', 'offered'], 'course'), (['list', 'of', 'courses', 'offered', 'in'], 'course'), (['what', 'are', 'the', 'courses', 'offered', 'in', 'your', 'college', '?'], 'course'), (['courses', '?'], 'course'), (['courses', 'offered'], 'course'), (['courses', 'offered', 'in', '(', 'your', 'univrsity', '(', 'UNI', ')', 'name', ')'], 'course'), (['courses', 'you', 'offer'], 'course'), (['branches', '?'], 'course'), (['courses', 'available', 'at', 'UNI', '?'], 'course'), (['branches', 'available', 'at', 'your', 'college', '?'], 'course'), (['what', 'are', 'the', 'courses', 'in', 'UNI', '?'], 'course'), (['what', 'are', 'branches', 'in', 'UNI', '?'], 'course'), (['what', 'are', 'courses', 'in', 'UNI', '?'], 'course'), (['branches', 'available', 'in', 'UNI', '?'], 'course'), (['can', 'you', 'tell', 'me', 'the', 'courses', 'available', 'in', 'UNI', '?'], 'course'), (['can', 'you', 'tell', 'me', 'the', 'branches', 'available', 'in', 'UNI', '?'], 'course'), (['computer', 'engineering', '?'], 'course'), (['computer'], 'course'), (['Computer', 'engineering', '?'], 'course'), (['it'], 'course'), (['IT'], 'course'), (['Information', 'Technology'], 'course'), (['AI/Ml'], 'course'), (['Mechanical', 'engineering'], 'course'), (['Chemical', 'engineering'], 'course'), (['Civil', 'engineering'], 'course'), (['information', 'about', 'fee'], 'fees'), (['information', 'on', 'fee'], 'fees'), (['tell', 'me', 'the', 'fee'], 'fees'), (['college', 'fee'], 'fees'), (['fee', 'per', 'semester'], 'fees'), (['what', 'is', 'the', 'fee', 'of', 'each', 'semester'], 'fees'), (['what', 'is', 'the', 'fees', 'of', 'each', 'year'], 'fees'), (['what', 'is', 'fee'], 'fees'), (['what', 'is', 'the', 'fees'], 'fees'), (['how', 'much', 'is', 'the', 'fees'], 'fees'), (['fees', 'for', 'first', 'year'], 'fees'), (['fees'], 'fees'), (['about', 'the', 'fees'], 'fees'), (['tell', 'me', 'something', 'about', 'the', 'fees'], 'fees'), (['What', 'is', 'the', 'fees', 'of', 'hostel'], 'fees'), (['how', 'much', 'is', 'the', 'fees'], 'fees'), (['hostel', 'fees'], 'fees'), (['fees', 'for', 'AC', 'room'], 'fees'), (['fees', 'for', 'non-AC', 'room'], 'fees'), (['fees', 'for', 'Ac', 'room', 'for', 'girls'], 'fees'), (['fees', 'for', 'non-Ac', 'room', 'for', 'girls'], 'fees'), (['fees', 'for', 'Ac', 'room', 'for', 'boys'], 'fees'), (['fees', 'for', 'non-Ac', 'room', 'for', 'boys'], 'fees'), (['where', 'is', 'the', 'college', 'located'], 'location'), (['college', 'is', 'located', 'at'], 'location'), (['where', 'is', 'college'], 'location'), (['where', 'is', 'college', 'located'], 'location'), (['address', 'of', 'college'], 'location'), (['how', 'to', 'reach', 'college'], 'location'), (['college', 'location'], 'location'), (['college', 'address'], 'location'), (['wheres', 'the', 'college'], 'location'), (['how', 'can', 'I', 'reach', 'college'], 'location'), (['whats', 'is', 'the', 'college', 'address'], 'location'), (['what', 'is', 'the', 'address', 'of', 'college'], 'location'), (['address'], 'location'), (['location'], 'location'), (['hostel', 'facility'], 'hostel'), (['hostel', 'servive'], 'hostel'), (['hostel', 'location'], 'hostel'), (['hostel', 'address'], 'hostel'), (['hostel', 'facilities'], 'hostel'), (['hostel', 'fees'], 'hostel'), (['Does', 'college', 'provide', 'hostel'], 'hostel'), (['Is', 'there', 'any', 'hostel'], 'hostel'), (['Where', 'is', 'hostel'], 'hostel'), (['do', 'you', 'have', 'hostel'], 'hostel'), (['do', 'you', 'guys', 'have', 'hostel'], 'hostel'), (['hostel'], 'hostel'), (['hostel', 'capacity'], 'hostel'), (['what', 'is', 'the', 'hostel', 'fee'], 'hostel'), (['how', 'to', 'get', 'in', 'hostel'], 'hostel'), (['what', 'is', 'the', 'hostel', 'address'], 'hostel'), (['how', 'far', 'is', 'hostel', 'from', 'college'], 'hostel'), (['hostel', 'college', 'distance'], 'hostel'), (['where', 'is', 'the', 'hostel'], 'hostel'), (['how', 'big', 'is', 'the', 'hostel'], 'hostel'), (['distance', 'between', 'college', 'and', 'hostel'], 'hostel'), (['distance', 'between', 'hostel', 'and', 'college'], 'hostel'), (['events', 'organised'], 'event'), (['list', 'of', 'events'], 'event'), (['list', 'of', 'events', 'organised', 'in', 'college'], 'event'), (['list', 'of', 'events', 'conducted', 'in', 'college'], 'event'), (['What', 'events', 'are', 'conducted', 'in', 'college'], 'event'), (['Are', 'there', 'any', 'event', 'held', 'at', 'college'], 'event'), (['Events', '?'], 'event'), (['functions'], 'event'), (['what', 'are', 'the', 'events'], 'event'), (['tell', 'me', 'about', 'events'], 'event'), (['what', 'about', 'events'], 'event'), (['document', 'to', 'bring'], 'document'), (['documents', 'needed', 'for', 'admision'], 'document'), (['documents', 'needed', 'at', 'the', 'time', 'of', 'admission'], 'document'), (['documents', 'needed', 'during', 'admission'], 'document'), (['documents', 'required', 'for', 'admision'], 'document'), (['documents', 'required', 'at', 'the', 'time', 'of', 'admission'], 'document'), (['documents', 'required', 'during', 'admission'], 'document'), (['What', 'document', 'are', 'required', 'for', 'admission'], 'document'), (['Which', 'document', 'to', 'bring', 'for', 'admission'], 'document'), (['documents'], 'document'), (['what', 'documents', 'do', 'i', 'need'], 'document'), (['what', 'documents', 'do', 'I', 'need', 'for', 'admission'], 'document'), (['documents', 'needed'], 'document'), (['size', 'of', 'campus'], 'floors'), (['building', 'size'], 'floors'), (['How', 'many', 'floors', 'does', 'college', 'have'], 'floors'), (['floors', 'in', 'college'], 'floors'), (['floors', 'in', 'college'], 'floors'), (['how', 'tall', 'is', 'UNI', \"'s\", 'College', 'of', 'Engineering', 'college', 'building'], 'floors'), (['floors'], 'floors'), (['Syllabus', 'for', 'IT'], 'syllabus'), (['what', 'is', 'the', 'Information', 'Technology', 'syllabus'], 'syllabus'), (['syllabus'], 'syllabus'), (['timetable'], 'syllabus'), (['what', 'is', 'IT', 'syllabus'], 'syllabus'), (['syllabus'], 'syllabus'), (['What', 'is', 'next', 'lecture'], 'syllabus'), (['is', 'there', 'any', 'library'], 'library'), (['library', 'facility'], 'library'), (['library', 'facilities'], 'library'), (['do', 'you', 'have', 'library'], 'library'), (['does', 'the', 'college', 'have', 'library', 'facility'], 'library'), (['college', 'library'], 'library'), (['where', 'can', 'i', 'get', 'books'], 'library'), (['book', 'facility'], 'library'), (['Where', 'is', 'library'], 'library'), (['Library'], 'library'), (['Library', 'information'], 'library'), (['Library', 'books', 'information'], 'library'), (['Tell', 'me', 'about', 'library'], 'library'), (['how', 'many', 'libraries'], 'library'), (['how', 'is', 'college', 'infrastructure'], 'infrastructure'), (['infrastructure'], 'infrastructure'), (['college', 'infrastructure'], 'infrastructure'), (['food', 'facilities'], 'canteen'), (['canteen', 'facilities'], 'canteen'), (['canteen', 'facility'], 'canteen'), (['is', 'there', 'any', 'canteen'], 'canteen'), (['Is', 'there', 'a', 'cafetaria', 'in', 'college'], 'canteen'), (['Does', 'college', 'have', 'canteen'], 'canteen'), (['Where', 'is', 'canteen'], 'canteen'), (['where', 'is', 'cafetaria'], 'canteen'), (['canteen'], 'canteen'), (['Food'], 'canteen'), (['Cafetaria'], 'canteen'), (['food', 'menu'], 'menu'), (['food', 'in', 'canteen'], 'menu'), (['Whats', 'there', 'on', 'menu'], 'menu'), (['what', 'is', 'available', 'in', 'college', 'canteen'], 'menu'), (['what', 'foods', 'can', 'we', 'get', 'in', 'college', 'canteen'], 'menu'), (['food', 'variety'], 'menu'), (['What', 'is', 'there', 'to', 'eat', '?'], 'menu'), (['What', 'is', 'college', 'placement'], 'placement'), (['Which', 'companies', 'visit', 'in', 'college'], 'placement'), (['What', 'is', 'average', 'package'], 'placement'), (['companies', 'visit'], 'placement'), (['package'], 'placement'), (['About', 'placement'], 'placement'), (['placement'], 'placement'), (['recruitment'], 'placement'), (['companies'], 'placement'), (['Who', 'is', 'HOD'], 'ithod'), (['Where', 'is', 'HOD'], 'ithod'), (['it', 'hod'], 'ithod'), (['name', 'of', 'it', 'hod'], 'ithod'), (['Who', 'is', 'computer', 'HOD'], 'computerhod'), (['Where', 'is', 'computer', 'HOD'], 'computerhod'), (['computer', 'hod'], 'computerhod'), (['name', 'of', 'computer', 'hod'], 'computerhod'), (['Who', 'is', 'extc', 'HOD'], 'extchod'), (['Where', 'is', 'extc', 'HOD'], 'extchod'), (['extc', 'hod'], 'extchod'), (['name', 'of', 'extc', 'hod'], 'extchod'), (['what', 'is', 'the', 'name', 'of', 'principal'], 'principal'), (['whatv', 'is', 'the', 'principal', 'name'], 'principal'), (['principal', 'name'], 'principal'), (['Who', 'is', 'college', 'principal'], 'principal'), (['Where', 'is', 'principal', \"'s\", 'office'], 'principal'), (['principal'], 'principal'), (['name', 'of', 'principal'], 'principal'), (['exam', 'dates'], 'sem'), (['exam', 'schedule'], 'sem'), (['When', 'is', 'semester', 'exam'], 'sem'), (['Semester', 'exam', 'timetable'], 'sem'), (['sem'], 'sem'), (['semester'], 'sem'), (['exam'], 'sem'), (['when', 'is', 'exam'], 'sem'), (['exam', 'timetable'], 'sem'), (['exam', 'dates'], 'sem'), (['when', 'is', 'semester'], 'sem'), (['what', 'is', 'the', 'process', 'of', 'admission'], 'admission'), (['what', 'is', 'the', 'admission', 'process'], 'admission'), (['How', 'to', 'take', 'admission', 'in', 'your', 'college'], 'admission'), (['What', 'is', 'the', 'process', 'for', 'admission'], 'admission'), (['admission'], 'admission'), (['admission', 'process'], 'admission'), (['scholarship'], 'scholarship'), (['Is', 'scholarship', 'available'], 'scholarship'), (['scholarship', 'engineering'], 'scholarship'), (['scholarship', 'it'], 'scholarship'), (['scholarship', 'ce'], 'scholarship'), (['scholarship', 'mechanical'], 'scholarship'), (['scholarship', 'civil'], 'scholarship'), (['scholarship', 'chemical'], 'scholarship'), (['scholarship', 'for', 'AI/ML'], 'scholarship'), (['available', 'scholarships'], 'scholarship'), (['scholarship', 'for', 'computer', 'engineering'], 'scholarship'), (['scholarship', 'for', 'IT', 'engineering'], 'scholarship'), (['scholarship', 'for', 'mechanical', 'engineering'], 'scholarship'), (['scholarship', 'for', 'civil', 'engineering'], 'scholarship'), (['scholarship', 'for', 'chemical', 'engineering'], 'scholarship'), (['list', 'of', 'scholarship'], 'scholarship'), (['comps', 'scholarship'], 'scholarship'), (['IT', 'scholarship'], 'scholarship'), (['mechanical', 'scholarship'], 'scholarship'), (['civil', 'scholarship'], 'scholarship'), (['chemical', 'scholarship'], 'scholarship'), (['automobile', 'scholarship'], 'scholarship'), (['first', 'year', 'scholarship'], 'scholarship'), (['second', 'year', 'scholarship'], 'scholarship'), (['third', 'year', 'scholarship'], 'scholarship'), (['fourth', 'year', 'scholarship'], 'scholarship'), (['What', 'facilities', 'college', 'provide'], 'facilities'), (['College', 'facility'], 'facilities'), (['What', 'are', 'college', 'facilities'], 'facilities'), (['facilities'], 'facilities'), (['facilities', 'provided'], 'facilities'), (['max', 'number', 'of', 'students'], 'college intake'), (['number', 'of', 'seats', 'per', 'branch'], 'college intake'), (['number', 'of', 'seats', 'in', 'each', 'branch'], 'college intake'), (['maximum', 'number', 'of', 'seats'], 'college intake'), (['maximum', 'students', 'intake'], 'college intake'), (['What', 'is', 'college', 'intake'], 'college intake'), (['how', 'many', 'stundent', 'are', 'taken', 'in', 'each', 'branch'], 'college intake'), (['seat', 'allotment'], 'college intake'), (['seats'], 'college intake'), (['college', 'dress', 'code'], 'uniform'), (['college', 'dresscode'], 'uniform'), (['what', 'is', 'the', 'uniform'], 'uniform'), (['can', 'we', 'wear', 'casuals'], 'uniform'), (['Does', 'college', 'have', 'an', 'uniform'], 'uniform'), (['Is', 'there', 'any', 'uniform'], 'uniform'), (['uniform'], 'uniform'), (['what', 'about', 'uniform'], 'uniform'), (['do', 'we', 'have', 'to', 'wear', 'uniform'], 'uniform'), (['what', 'are', 'the', 'different', 'committe', 'in', 'college'], 'committee'), (['different', 'committee', 'in', 'college'], 'committee'), (['Are', 'there', 'any', 'committee', 'in', 'college'], 'committee'), (['Give', 'me', 'committee', 'details'], 'committee'), (['committee'], 'committee'), (['how', 'many', 'committee', 'are', 'there', 'in', 'college'], 'committee'), (['I', 'love', 'you'], 'random'), (['Will', 'you', 'marry', 'me'], 'random'), (['Do', 'you', 'love', 'me'], 'random'), (['fuck'], 'swear'), (['bitch'], 'swear'), (['shut', 'up'], 'swear'), (['hell'], 'swear'), (['stupid'], 'swear'), (['idiot'], 'swear'), (['dumb', 'ass'], 'swear'), (['asshole'], 'swear'), (['fucker'], 'swear'), (['holidays'], 'vacation'), (['when', 'will', 'semester', 'starts'], 'vacation'), (['when', 'will', 'semester', 'end'], 'vacation'), (['when', 'is', 'the', 'holidays'], 'vacation'), (['list', 'of', 'holidays'], 'vacation'), (['Holiday', 'in', 'these', 'year'], 'vacation'), (['holiday', 'list'], 'vacation'), (['about', 'vacations'], 'vacation'), (['about', 'holidays'], 'vacation'), (['When', 'is', 'vacation'], 'vacation'), (['When', 'is', 'holidays'], 'vacation'), (['how', 'long', 'will', 'be', 'the', 'vacation'], 'vacation'), (['sports', 'and', 'games'], 'sports'), (['give', 'sports', 'details'], 'sports'), (['sports', 'infrastructure'], 'sports'), (['sports', 'facilities'], 'sports'), (['information', 'about', 'sports'], 'sports'), (['Sports', 'activities'], 'sports'), (['please', 'provide', 'sports', 'and', 'games', 'information'], 'sports'), (['okk'], 'salutaion'), (['okie'], 'salutaion'), (['nice', 'work'], 'salutaion'), (['well', 'done'], 'salutaion'), (['good', 'job'], 'salutaion'), (['thanks', 'for', 'the', 'help'], 'salutaion'), (['Thank', 'You'], 'salutaion'), (['its', 'ok'], 'salutaion'), (['Thanks'], 'salutaion'), (['Good', 'work'], 'salutaion'), (['k'], 'salutaion'), (['ok'], 'salutaion'), (['okay'], 'salutaion'), (['what', 'can', 'you', 'do'], 'task'), (['what', 'are', 'the', 'thing', 'you', 'can', 'do'], 'task'), (['things', 'you', 'can', 'do'], 'task'), (['what', 'can', 'u', 'do', 'for', 'me'], 'task'), (['how', 'u', 'can', 'help', 'me'], 'task'), (['why', 'i', 'should', 'use', 'you'], 'task'), (['ragging'], 'ragging'), (['is', 'ragging', 'practice', 'active', 'in', 'college'], 'ragging'), (['does', 'college', 'have', 'any', 'antiragging', 'facility'], 'ragging'), (['is', 'there', 'any', 'ragging', 'cases'], 'ragging'), (['is', 'ragging', 'done', 'here'], 'ragging'), (['ragging', 'against'], 'ragging'), (['antiragging', 'facility'], 'ragging'), (['ragging', 'juniors'], 'ragging'), (['ragging', 'history'], 'ragging'), (['ragging', 'incidents'], 'ragging'), (['hod'], 'hod'), (['hod', 'name'], 'hod'), (['who', 'is', 'the', 'hod'], 'hod')] \n",
      "\n",
      "38 classes\n",
      " ['admission', 'canteen', 'college intake', 'committee', 'computerhod', 'course', 'creator', 'document', 'event', 'extchod', 'facilities', 'fees', 'floors', 'goodbye', 'greeting', 'hod', 'hostel', 'hours', 'infrastructure', 'ithod', 'library', 'location', 'menu', 'name', 'number', 'placement', 'principal', 'ragging', 'random', 'salutaion', 'scholarship', 'sem', 'sports', 'swear', 'syllabus', 'task', 'uniform', 'vacation'] \n",
      "\n",
      "263 unique lemmatized words [\"'s\", '(', ')', 'a', 'about', 'ac', 'active', 'activity', 'address', 'admision', 'admission', 'against', 'ai/ml', 'allotment', 'am', 'an', 'and', 'antiragging', 'any', 'anyone', 'are', 'as', 'asshole', 'at', 'attend', 'automobile', 'available', 'average', 'be', 'between', 'big', 'bitch', 'book', 'boy', 'branch', 'bring', 'building', 'by', 'bye', 'cafetaria', 'call', 'called', 'campus', 'can', 'canteen', 'capacity', 'case', 'casuals', 'ce', 'chatting', 'chemical', 'civil', 'code', 'college', 'come', 'committe', 'committee', 'comp', 'company', 'computer', 'conducted', 'contact', 'course', 'create', 'created', 'creator', 'cya', 'date', 'day', 'designed', 'detail', 'developer', 'different', 'distance', 'do', 'document', 'doe', 'done', 'dress', 'dresscode', 'dumb', 'during', 'each', 'eat', 'end', 'engineering', 'event', 'exam', 'extc', 'facility', 'far', 'fee', 'first', 'floor', 'food', 'for', 'fourth', 'from', 'fuck', 'fucker', 'function', 'game', 'get', 'girl', 'give', 'go', 'good', 'goodbye', 'got', 'gtg', 'guy', 'have', 'held', 'hell', 'hello', 'help', 'here', 'heyy', 'hi', 'history', 'hod', 'holiday', 'hostel', 'hour', 'how', 'i', 'idiot', 'in', 'incident', 'info', 'information', 'infrastructure', 'intake', 'is', 'it', 'job', 'junior', 'k', 'later', 'leaving', 'lecture', 'library', 'list', 'located', 'location', 'long', 'love', 'made', 'many', 'marry', 'max', 'maximum', 'me', 'mechanical', 'menu', 'more', 'much', 'my', 'name', 'need', 'needed', 'next', 'nice', 'no', 'non-ac', 'number', 'of', 'offer', 'offered', 'office', 'ok', 'okay', 'okie', 'okk', 'on', 'open', 'operation', 'organised', 'package', 'per', 'phone', 'placement', 'please', 'practice', 'principal', 'process', 'provide', 'provided', 'ragging', 'reach', 'recruitment', 'required', 'room', 'saturday', 'schedule', 'scholarship', 'seat', 'second', 'see', 'sem', 'semester', 'servive', 'should', 'shut', 'size', 'something', 'sport', 'start', 'student', 'stundent', 'stupid', 'syllabus', 'take', 'taken', 'taking', 'talk', 'tall', 'technology', 'telephone', 'tell', 'thank', 'thanks', 'the', 'there', 'these', 'thing', 'third', 'this', 'time', 'timetable', 'timing', 'to', 'ttyl', 'u', 'uni', 'uniform', 'univrsity', 'up', 'use', 'vacation', 'variety', 'visit', 'we', 'wear', 'well', 'what', 'whats', 'whatsup', 'whatv', 'when', 'where', 'wheres', 'which', 'who', 'whom', 'why', 'will', 'work', 'working', 'ya', 'year', 'you', 'your'] \n",
      "\n"
     ]
    }
   ],
   "source": [
    "#lemmatize, lower each word and remove duplicates\n",
    "words = [lemmatizer.lemmatize(w.lower()) for w in words if w not in ignore_words]\n",
    "\n",
    "words = sorted(list(set(words)))\n",
    "\n",
    "#sort classes\n",
    "classes = sorted(list(set(classes)))\n",
    "\n",
    "#documents = combination between patterns and intents\n",
    "print (len(documents), \"documents\\n\", documents, \"\\n\")\n",
    "\n",
    "#classes = intents[tags]\n",
    "print (len(classes), \"classes\\n\", classes, \"\\n\")\n",
    "\n",
    "#words = all words, vocabulary\n",
    "print (len(words), \"unique lemmatized words\", words, \"\\n\")\n",
    "\n",
    "pickle.dump(words,open('words.pkl','wb'))\n",
    "pickle.dump(classes,open('classes.pkl','wb'))"
   ]
  },
  {
   "cell_type": "code",
   "execution_count": 79,
   "metadata": {},
   "outputs": [
    {
     "name": "stdout",
     "output_type": "stream",
     "text": [
      "Training data created\n"
     ]
    }
   ],
   "source": [
    "#creating our training data \n",
    "training = []\n",
    "\n",
    "# create an empty array for our output\n",
    "output_empty = [0] * len(classes)\n",
    "\n",
    "# training set, bag of words for each sentence\n",
    "for doc in documents:\n",
    "    \n",
    "    # initialize our bag of words\n",
    "    bag = []\n",
    "    \n",
    "    # list of tokenized words for the pattern\n",
    "    pattern_words = doc[0]\n",
    "    \n",
    "    # lemmatize each word - create base word, in attempt to represent related words\n",
    "    pattern_words = [lemmatizer.lemmatize(word.lower()) for word in pattern_words]\n",
    "    \n",
    "    # create our bag of words array with 1, if word match found in current pattern\n",
    "    for w in words:\n",
    "        bag.append(1) if w in pattern_words else bag.append(0)\n",
    "    \n",
    "    # output is a '0' for each tag and '1' for current tag (for each pattern)\n",
    "    output_row = list(output_empty)\n",
    "    \n",
    "    output_row[classes.index(doc[1])] = 1\n",
    "    \n",
    "    training.append([bag, output_row])\n",
    "\n",
    "# shuffle our features and turn into list\n",
    "random.shuffle(training)\n",
    "\n",
    "# create train and test lists. X - patterns, Y - intents\n",
    "train_x = [pattern[0] for pattern in training]\n",
    "train_y = [pattern[1] for pattern in training]\n",
    "print(\"Training data created\")"
   ]
  },
  {
   "cell_type": "code",
   "execution_count": 80,
   "metadata": {},
   "outputs": [],
   "source": [
    "from tensorflow.python.framework import ops\n",
    "ops.reset_default_graph()"
   ]
  },
  {
   "cell_type": "code",
   "execution_count": 81,
   "metadata": {},
   "outputs": [
    {
     "name": "stdout",
     "output_type": "stream",
     "text": [
      "First layer:  [[-0.03075065 -0.0859829  -0.00761569 ...  0.08692342  0.02949463\n",
      "  -0.10834949]\n",
      " [ 0.04449113  0.05554867  0.00067722 ... -0.11950869  0.11958717\n",
      "   0.08889368]\n",
      " [ 0.04230911 -0.0370267  -0.09099003 ... -0.06066165  0.02549605\n",
      "  -0.0911328 ]\n",
      " ...\n",
      " [ 0.05493507  0.0927335   0.01580124 ... -0.04722486  0.03800164\n",
      "   0.05989435]\n",
      " [ 0.05401814  0.05534828  0.08459885 ... -0.10615571 -0.0533525\n",
      "   0.01408841]\n",
      " [-0.02343772 -0.0479252   0.02184777 ...  0.10483916 -0.09252248\n",
      "  -0.0702171 ]]\n"
     ]
    }
   ],
   "source": [
    "model = Sequential()\n",
    "model.add(Dense(128, input_shape=(len(train_x[0]),), activation='relu'))\n",
    "model.add(Dropout(0.5))\n",
    "model.add(Dense(64, activation='relu'))\n",
    "model.add(Dropout(0.5))\n",
    "model.add(Dense(len(train_y[0]), activation='softmax'))\n",
    "print(\"First layer: \", model.layers[0].get_weights()[0])"
   ]
  },
  {
   "cell_type": "code",
   "execution_count": 82,
   "metadata": {},
   "outputs": [],
   "source": [
    "model.compile(loss='categorical_crossentropy', optimizer='adam', metrics=['accuracy'])"
   ]
  },
  {
   "cell_type": "code",
   "execution_count": 83,
   "metadata": {},
   "outputs": [
    {
     "name": "stdout",
     "output_type": "stream",
     "text": [
      "Epoch 1/100\n"
     ]
    },
    {
     "name": "stdout",
     "output_type": "stream",
     "text": [
      "81/81 [==============================] - 1s 1ms/step - loss: 3.6103 - accuracy: 0.0494\n",
      "Epoch 2/100\n",
      "81/81 [==============================] - 0s 1ms/step - loss: 3.4594 - accuracy: 0.1506\n",
      "Epoch 3/100\n",
      "81/81 [==============================] - 0s 1ms/step - loss: 3.2770 - accuracy: 0.1728\n",
      "Epoch 4/100\n",
      "81/81 [==============================] - 0s 1ms/step - loss: 3.0241 - accuracy: 0.2198\n",
      "Epoch 5/100\n",
      "81/81 [==============================] - 0s 1ms/step - loss: 2.7363 - accuracy: 0.2815\n",
      "Epoch 6/100\n",
      "81/81 [==============================] - 0s 1ms/step - loss: 2.5376 - accuracy: 0.3358\n",
      "Epoch 7/100\n",
      "81/81 [==============================] - 0s 2ms/step - loss: 2.2614 - accuracy: 0.4272\n",
      "Epoch 8/100\n",
      "81/81 [==============================] - 0s 1ms/step - loss: 2.0458 - accuracy: 0.4963\n",
      "Epoch 9/100\n",
      "81/81 [==============================] - 0s 1ms/step - loss: 1.8996 - accuracy: 0.5235\n",
      "Epoch 10/100\n",
      "81/81 [==============================] - 0s 2ms/step - loss: 1.6384 - accuracy: 0.6099\n",
      "Epoch 11/100\n",
      "81/81 [==============================] - 0s 2ms/step - loss: 1.4871 - accuracy: 0.6000\n",
      "Epoch 12/100\n",
      "81/81 [==============================] - 0s 1ms/step - loss: 1.4296 - accuracy: 0.6370\n",
      "Epoch 13/100\n",
      "81/81 [==============================] - 0s 1ms/step - loss: 1.2571 - accuracy: 0.6543\n",
      "Epoch 14/100\n",
      "81/81 [==============================] - 0s 1ms/step - loss: 1.1075 - accuracy: 0.7407\n",
      "Epoch 15/100\n",
      "81/81 [==============================] - 0s 1ms/step - loss: 1.0295 - accuracy: 0.7259\n",
      "Epoch 16/100\n",
      "81/81 [==============================] - 0s 1ms/step - loss: 0.9780 - accuracy: 0.7383\n",
      "Epoch 17/100\n",
      "81/81 [==============================] - 0s 1ms/step - loss: 0.8613 - accuracy: 0.7778\n",
      "Epoch 18/100\n",
      "81/81 [==============================] - 0s 1ms/step - loss: 0.8442 - accuracy: 0.7802\n",
      "Epoch 19/100\n",
      "81/81 [==============================] - 0s 1ms/step - loss: 0.7929 - accuracy: 0.8000\n",
      "Epoch 20/100\n",
      "81/81 [==============================] - 0s 1ms/step - loss: 0.7060 - accuracy: 0.8222\n",
      "Epoch 21/100\n",
      "81/81 [==============================] - 0s 1ms/step - loss: 0.6619 - accuracy: 0.8247\n",
      "Epoch 22/100\n",
      "81/81 [==============================] - 0s 4ms/step - loss: 0.6522 - accuracy: 0.8444\n",
      "Epoch 23/100\n",
      "81/81 [==============================] - 0s 2ms/step - loss: 0.5968 - accuracy: 0.8593\n",
      "Epoch 24/100\n",
      "81/81 [==============================] - 0s 1ms/step - loss: 0.5605 - accuracy: 0.8444\n",
      "Epoch 25/100\n",
      "81/81 [==============================] - 0s 1ms/step - loss: 0.5155 - accuracy: 0.8568\n",
      "Epoch 26/100\n",
      "81/81 [==============================] - 0s 1ms/step - loss: 0.5687 - accuracy: 0.8568\n",
      "Epoch 27/100\n",
      "81/81 [==============================] - 0s 1ms/step - loss: 0.5308 - accuracy: 0.8568\n",
      "Epoch 28/100\n",
      "81/81 [==============================] - 0s 1ms/step - loss: 0.4498 - accuracy: 0.8667\n",
      "Epoch 29/100\n",
      "81/81 [==============================] - 0s 1ms/step - loss: 0.4843 - accuracy: 0.8667\n",
      "Epoch 30/100\n",
      "81/81 [==============================] - 0s 1ms/step - loss: 0.3889 - accuracy: 0.9111\n",
      "Epoch 31/100\n",
      "81/81 [==============================] - 0s 1ms/step - loss: 0.3877 - accuracy: 0.9160\n",
      "Epoch 32/100\n",
      "81/81 [==============================] - 0s 1ms/step - loss: 0.3628 - accuracy: 0.9111\n",
      "Epoch 33/100\n",
      "81/81 [==============================] - 0s 1ms/step - loss: 0.3770 - accuracy: 0.9160\n",
      "Epoch 34/100\n",
      "81/81 [==============================] - 0s 1ms/step - loss: 0.3905 - accuracy: 0.8840\n",
      "Epoch 35/100\n",
      "81/81 [==============================] - 0s 1ms/step - loss: 0.3300 - accuracy: 0.9111\n",
      "Epoch 36/100\n",
      "81/81 [==============================] - 0s 1ms/step - loss: 0.3490 - accuracy: 0.9086\n",
      "Epoch 37/100\n",
      "81/81 [==============================] - 0s 1ms/step - loss: 0.3125 - accuracy: 0.9185\n",
      "Epoch 38/100\n",
      "81/81 [==============================] - 0s 1ms/step - loss: 0.3356 - accuracy: 0.9111\n",
      "Epoch 39/100\n",
      "81/81 [==============================] - 0s 1ms/step - loss: 0.2859 - accuracy: 0.9358\n",
      "Epoch 40/100\n",
      "81/81 [==============================] - 0s 1ms/step - loss: 0.3222 - accuracy: 0.9160\n",
      "Epoch 41/100\n",
      "81/81 [==============================] - 0s 1ms/step - loss: 0.2691 - accuracy: 0.9259\n",
      "Epoch 42/100\n",
      "81/81 [==============================] - 0s 1ms/step - loss: 0.2396 - accuracy: 0.9432\n",
      "Epoch 43/100\n",
      "81/81 [==============================] - 0s 1ms/step - loss: 0.2356 - accuracy: 0.9309\n",
      "Epoch 44/100\n",
      "81/81 [==============================] - 0s 1ms/step - loss: 0.2274 - accuracy: 0.9457\n",
      "Epoch 45/100\n",
      "81/81 [==============================] - 0s 1ms/step - loss: 0.2735 - accuracy: 0.9284\n",
      "Epoch 46/100\n",
      "81/81 [==============================] - 0s 1ms/step - loss: 0.2759 - accuracy: 0.9210\n",
      "Epoch 47/100\n",
      "81/81 [==============================] - 0s 2ms/step - loss: 0.2677 - accuracy: 0.9259\n",
      "Epoch 48/100\n",
      "81/81 [==============================] - 0s 1ms/step - loss: 0.2431 - accuracy: 0.9407\n",
      "Epoch 49/100\n",
      "81/81 [==============================] - 0s 1ms/step - loss: 0.1956 - accuracy: 0.9457\n",
      "Epoch 50/100\n",
      "81/81 [==============================] - 0s 1ms/step - loss: 0.2244 - accuracy: 0.9481\n",
      "Epoch 51/100\n",
      "81/81 [==============================] - 0s 1ms/step - loss: 0.2197 - accuracy: 0.9383\n",
      "Epoch 52/100\n",
      "81/81 [==============================] - 0s 1ms/step - loss: 0.2318 - accuracy: 0.9407\n",
      "Epoch 53/100\n",
      "81/81 [==============================] - 0s 1ms/step - loss: 0.2306 - accuracy: 0.9235\n",
      "Epoch 54/100\n",
      "81/81 [==============================] - 0s 1ms/step - loss: 0.1773 - accuracy: 0.9531\n",
      "Epoch 55/100\n",
      "81/81 [==============================] - 0s 1ms/step - loss: 0.1803 - accuracy: 0.9580\n",
      "Epoch 56/100\n",
      "81/81 [==============================] - 0s 2ms/step - loss: 0.1880 - accuracy: 0.9432\n",
      "Epoch 57/100\n",
      "81/81 [==============================] - 0s 1ms/step - loss: 0.1694 - accuracy: 0.9457\n",
      "Epoch 58/100\n",
      "81/81 [==============================] - 0s 1ms/step - loss: 0.2274 - accuracy: 0.9383\n",
      "Epoch 59/100\n",
      "81/81 [==============================] - 0s 1ms/step - loss: 0.1716 - accuracy: 0.9605\n",
      "Epoch 60/100\n",
      "81/81 [==============================] - 0s 1ms/step - loss: 0.2067 - accuracy: 0.9407\n",
      "Epoch 61/100\n",
      "81/81 [==============================] - 0s 3ms/step - loss: 0.1924 - accuracy: 0.9358\n",
      "Epoch 62/100\n",
      "81/81 [==============================] - 0s 1ms/step - loss: 0.1778 - accuracy: 0.9580\n",
      "Epoch 63/100\n",
      "81/81 [==============================] - 0s 1ms/step - loss: 0.1515 - accuracy: 0.9630\n",
      "Epoch 64/100\n",
      "81/81 [==============================] - 0s 1ms/step - loss: 0.1463 - accuracy: 0.9580\n",
      "Epoch 65/100\n",
      "81/81 [==============================] - 0s 1ms/step - loss: 0.1535 - accuracy: 0.9457\n",
      "Epoch 66/100\n",
      "81/81 [==============================] - 0s 1ms/step - loss: 0.1478 - accuracy: 0.9679\n",
      "Epoch 67/100\n",
      "81/81 [==============================] - 0s 1ms/step - loss: 0.1565 - accuracy: 0.9556\n",
      "Epoch 68/100\n",
      "81/81 [==============================] - 0s 2ms/step - loss: 0.2008 - accuracy: 0.9407\n",
      "Epoch 69/100\n",
      "81/81 [==============================] - 0s 2ms/step - loss: 0.1556 - accuracy: 0.9605\n",
      "Epoch 70/100\n",
      "81/81 [==============================] - 0s 2ms/step - loss: 0.1520 - accuracy: 0.9679\n",
      "Epoch 71/100\n",
      "81/81 [==============================] - 0s 1ms/step - loss: 0.1237 - accuracy: 0.9679\n",
      "Epoch 72/100\n",
      "81/81 [==============================] - 0s 1ms/step - loss: 0.1581 - accuracy: 0.9531\n",
      "Epoch 73/100\n",
      "81/81 [==============================] - 0s 1ms/step - loss: 0.1092 - accuracy: 0.9630\n",
      "Epoch 74/100\n",
      "81/81 [==============================] - 0s 1ms/step - loss: 0.1634 - accuracy: 0.9556\n",
      "Epoch 75/100\n",
      "81/81 [==============================] - 0s 2ms/step - loss: 0.1570 - accuracy: 0.9605\n",
      "Epoch 76/100\n",
      "81/81 [==============================] - 0s 2ms/step - loss: 0.1799 - accuracy: 0.9333\n",
      "Epoch 77/100\n",
      "81/81 [==============================] - 0s 1ms/step - loss: 0.1282 - accuracy: 0.9704\n",
      "Epoch 78/100\n",
      "81/81 [==============================] - 0s 1ms/step - loss: 0.1419 - accuracy: 0.9679\n",
      "Epoch 79/100\n",
      "81/81 [==============================] - 0s 1ms/step - loss: 0.1261 - accuracy: 0.9679\n",
      "Epoch 80/100\n",
      "81/81 [==============================] - 0s 1ms/step - loss: 0.1234 - accuracy: 0.9654\n",
      "Epoch 81/100\n",
      "81/81 [==============================] - 0s 1ms/step - loss: 0.1509 - accuracy: 0.9531\n",
      "Epoch 82/100\n",
      "81/81 [==============================] - 0s 1ms/step - loss: 0.1257 - accuracy: 0.9679\n",
      "Epoch 83/100\n",
      "81/81 [==============================] - 0s 1ms/step - loss: 0.1369 - accuracy: 0.9630\n",
      "Epoch 84/100\n",
      "81/81 [==============================] - 0s 1ms/step - loss: 0.1424 - accuracy: 0.9531\n",
      "Epoch 85/100\n",
      "81/81 [==============================] - 0s 1ms/step - loss: 0.1022 - accuracy: 0.9778\n",
      "Epoch 86/100\n",
      "81/81 [==============================] - 0s 1ms/step - loss: 0.1271 - accuracy: 0.9556\n",
      "Epoch 87/100\n",
      "81/81 [==============================] - 0s 1ms/step - loss: 0.1357 - accuracy: 0.9506\n",
      "Epoch 88/100\n",
      "81/81 [==============================] - 0s 1ms/step - loss: 0.1516 - accuracy: 0.9556\n",
      "Epoch 89/100\n",
      "81/81 [==============================] - 0s 1ms/step - loss: 0.1436 - accuracy: 0.9556\n",
      "Epoch 90/100\n",
      "81/81 [==============================] - 0s 1ms/step - loss: 0.1400 - accuracy: 0.9506\n",
      "Epoch 91/100\n",
      "81/81 [==============================] - 0s 1ms/step - loss: 0.1133 - accuracy: 0.9704\n",
      "Epoch 92/100\n",
      "81/81 [==============================] - 0s 2ms/step - loss: 0.1231 - accuracy: 0.9605\n",
      "Epoch 93/100\n",
      "81/81 [==============================] - 0s 1ms/step - loss: 0.1241 - accuracy: 0.9679\n",
      "Epoch 94/100\n",
      "81/81 [==============================] - 0s 1ms/step - loss: 0.1060 - accuracy: 0.9753\n",
      "Epoch 95/100\n",
      "81/81 [==============================] - 0s 1ms/step - loss: 0.1100 - accuracy: 0.9704\n",
      "Epoch 96/100\n",
      "81/81 [==============================] - 0s 1ms/step - loss: 0.1559 - accuracy: 0.9556\n",
      "Epoch 97/100\n",
      "81/81 [==============================] - 0s 1ms/step - loss: 0.1359 - accuracy: 0.9531\n",
      "Epoch 98/100\n",
      "81/81 [==============================] - 0s 1ms/step - loss: 0.0842 - accuracy: 0.9802\n",
      "Epoch 99/100\n",
      "81/81 [==============================] - 0s 2ms/step - loss: 0.1196 - accuracy: 0.9580\n",
      "Epoch 100/100\n",
      "81/81 [==============================] - 0s 1ms/step - loss: 0.1215 - accuracy: 0.9704\n",
      "model created\n"
     ]
    }
   ],
   "source": [
    "#fitting and saving the model\n",
    "hist = model.fit(np.array(train_x), np.array(train_y), epochs=100, batch_size=5, verbose=1)\n",
    "model.save('chatbot_model.h5', hist)\n",
    "\n",
    "print(\"model created\")"
   ]
  },
  {
   "cell_type": "code",
   "execution_count": 84,
   "metadata": {},
   "outputs": [],
   "source": [
    "from keras.models import load_model\n",
    "model = load_model('chatbot_model.h5')"
   ]
  },
  {
   "cell_type": "code",
   "execution_count": 85,
   "metadata": {},
   "outputs": [],
   "source": [
    "intents = json.loads(open('/workspaces/Song_Rec/chatbot_test/intents/intents.json').read())\n",
    "\n",
    "words = pickle.load(open('/workspaces/Song_Rec/chatbot_test/words.pkl','rb'))\n",
    "\n",
    "classes = pickle.load(open('/workspaces/Song_Rec/chatbot_test/classes.pkl','rb'))"
   ]
  },
  {
   "cell_type": "code",
   "execution_count": 86,
   "metadata": {},
   "outputs": [],
   "source": [
    "def clean_up_sentences(sentences):\n",
    "    # tokenize the pattern - split words into array\n",
    "\n",
    "    sentence_words = nltk.word_tokenize(sentences)\n",
    "    #print(sentence_words)\n",
    "    # stem each word - create short form for word\n",
    "\n",
    "    sentence_words = [lemmatizer.lemmatize(word.lower()) for word in sentence_words]\n",
    "    #print(sentence_words)\n",
    "\n",
    "    return sentence_words"
   ]
  },
  {
   "cell_type": "code",
   "execution_count": 87,
   "metadata": {},
   "outputs": [],
   "source": [
    "def bow(sentence, words, show_details=True):\n",
    "\n",
    "    # tokenize the pattern\n",
    "\n",
    "    def clean_up_sentence(sentence):\n",
    "        sentence_words = nltk.word_tokenize(sentence)\n",
    "        sentence_words = [lemmatizer.lemmatize(word.lower()) for word in sentence_words]\n",
    "        return sentence_words\n",
    "    #print(bag)\n",
    "\n",
    "    for s in clean_up_sentence(sentence):  \n",
    "        for i,w in enumerate(words):\n",
    "            if w == s: \n",
    "                # assign 1 if current word is in the vocabulary position\n",
    "                bag[i] = 1\n",
    "                if show_details:\n",
    "                    print (\"found in bag: %s\" % w)\n",
    "                #print (\"found in bag: %s\" % w)\n",
    "    #print(bag)\n",
    "    return(np.array(bag))"
   ]
  },
  {
   "cell_type": "code",
   "execution_count": 88,
   "metadata": {},
   "outputs": [],
   "source": [
    "def predict_class(sentence, model):\n",
    "\n",
    "    # filter out predictions below a threshold\n",
    "\n",
    "    p = bow(sentence, words,show_details=False)\n",
    "    #print(p)\n",
    "\n",
    "    res = model.predict(np.array([p]))[0]\n",
    "    #print(res)\n",
    "\n",
    "    ERROR_THRESHOLD = 0.25\n",
    "\n",
    "    results = [[i,r] for i,r in enumerate(res) if r>ERROR_THRESHOLD]\n",
    "    #print(results)\n",
    "    # sort by strength of probability\n",
    "\n",
    "    results.sort(key=lambda x: x[1], reverse=True)\n",
    "    #print(results)\n",
    "\n",
    "    return_list = []\n",
    "\n",
    "    for r in results:\n",
    "        return_list.append({\"intent\": classes[r[0]], \"probability\": str(r[1])})\n",
    "\n",
    "    return return_list\n",
    "    #print(return_list)\n"
   ]
  },
  {
   "cell_type": "code",
   "execution_count": 89,
   "metadata": {},
   "outputs": [],
   "source": [
    "def getResponse(ints, intents_json):\n",
    "\n",
    "    tag = ints[0]['intent']\n",
    "    #print(tag)\n",
    "\n",
    "    list_of_intents = intents_json['intents']\n",
    "    #print(list_of_intents)\n",
    "\n",
    "    for i in list_of_intents:\n",
    "        if(i['tag']== tag):\n",
    "            result = random.choice(i['responses'])\n",
    "            break\n",
    "    return result\n"
   ]
  },
  {
   "cell_type": "code",
   "execution_count": 90,
   "metadata": {},
   "outputs": [],
   "source": [
    "def chatbot_response(text): \n",
    "    \n",
    "    ints = predict_class(text, model)\n",
    "\n",
    "    #print(ints)\n",
    "    res = getResponse(ints, intents)\n",
    "    #print(res)\n",
    "    return res"
   ]
  },
  {
   "cell_type": "code",
   "execution_count": 91,
   "metadata": {},
   "outputs": [
    {
     "name": "stdout",
     "output_type": "stream",
     "text": [
      "1/1 [==============================] - 0s 51ms/step\n"
     ]
    },
    {
     "data": {
      "text/plain": [
       "'HODs differ for each branch, please be more specific like: (HOD it)'"
      ]
     },
     "execution_count": 91,
     "metadata": {},
     "output_type": "execute_result"
    }
   ],
   "source": [
    "chatbot_response(\"Hello\")"
   ]
  }
 ],
 "metadata": {
  "kernelspec": {
   "display_name": "Python 3",
   "language": "python",
   "name": "python3"
  },
  "language_info": {
   "codemirror_mode": {
    "name": "ipython",
    "version": 3
   },
   "file_extension": ".py",
   "mimetype": "text/x-python",
   "name": "python",
   "nbconvert_exporter": "python",
   "pygments_lexer": "ipython3",
   "version": "3.10.13"
  }
 },
 "nbformat": 4,
 "nbformat_minor": 2
}
