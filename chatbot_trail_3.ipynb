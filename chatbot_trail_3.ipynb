{
 "cells": [
  {
   "cell_type": "code",
   "execution_count": null,
   "metadata": {},
   "outputs": [],
   "source": [
    "# This Python 3 environment comes with many helpful analytics libraries installed\n",
    "# It is defined by the kaggle/python Docker image: https://github.com/kaggle/docker-python\n",
    "# For example, here's several helpful packages to load\n",
    "\n",
    "import numpy as np # linear algebra\n",
    "import pandas as pd # data processing, CSV file I/O (e.g. pd.read_csv)\n",
    "\n",
    "# Input data files are available in the read-only \"../input/\" directory\n",
    "# For example, running this (by clicking run or pressing Shift+Enter) will list all files under the input directory\n",
    "\n",
    "import os\n",
    "for dirname, _, filenames in os.walk('/kaggle/input'):\n",
    "    for filename in filenames:\n",
    "        print(os.path.join(dirname, filename))\n",
    "\n",
    "# You can write up to 20GB to the current directory (/kaggle/working/) that gets preserved as output when you create a version using \"Save & Run All\" \n",
    "# You can also write temporary files to /kaggle/temp/, but they won't be saved outside of the current session"
   ]
  },
  {
   "cell_type": "code",
   "execution_count": null,
   "metadata": {},
   "outputs": [],
   "source": [
    "import json\n",
    "\n",
    "with open('chatbot_dataset/intents_1.json', 'r') as f:\n",
    "    data = json.load(f)\n",
    "\n",
    "df = pd.DataFrame(data['intents'])"
   ]
  },
  {
   "cell_type": "code",
   "execution_count": null,
   "metadata": {},
   "outputs": [],
   "source": [
    "pd.options.display.max_colwidth=None\n",
    "df.head()"
   ]
  },
  {
   "cell_type": "code",
   "execution_count": null,
   "metadata": {},
   "outputs": [],
   "source": [
    "dic = {\"tag\":[], \"patterns\":[], \"responses\":[]}\n",
    "for example in data['intents']:\n",
    "    for pattern in example['patterns']:\n",
    "        dic['patterns'].append(pattern)\n",
    "        dic['tag'].append(example['tag'])\n",
    "        dic['responses'].append(example['responses'])"
   ]
  },
  {
   "cell_type": "code",
   "execution_count": null,
   "metadata": {},
   "outputs": [],
   "source": [
    "pd.options.display.max_colwidth=15\n",
    "df = pd.DataFrame.from_dict(dic)\n",
    "df"
   ]
  },
  {
   "cell_type": "code",
   "execution_count": null,
   "metadata": {},
   "outputs": [],
   "source": [
    "df['tag'].unique()"
   ]
  },
  {
   "cell_type": "code",
   "execution_count": null,
   "metadata": {},
   "outputs": [],
   "source": [
    "df['tag'].nunique()"
   ]
  },
  {
   "cell_type": "code",
   "execution_count": null,
   "metadata": {},
   "outputs": [],
   "source": [
    "from tensorflow.keras.preprocessing.text import Tokenizer\n",
    "\n",
    "tokenizer = Tokenizer(lower=True, split=' ')\n",
    "#  lists to be a token \n",
    "tokenizer.fit_on_texts(df['patterns'])\n",
    "# serialized JSON dictionary\n",
    "tokenizer.get_config()"
   ]
  },
  {
   "cell_type": "code",
   "execution_count": null,
   "metadata": {},
   "outputs": [],
   "source": [
    "vacab_size = len(tokenizer.word_index)\n",
    "print('number of unique words = ', vacab_size)\n",
    "vacab_size = 1000"
   ]
  },
  {
   "cell_type": "code",
   "execution_count": null,
   "metadata": {},
   "outputs": [],
   "source": [
    "from tensorflow.keras.preprocessing.sequence import pad_sequences\n",
    "from sklearn.preprocessing import LabelEncoder\n",
    "\n",
    "ptrn2seq = tokenizer.texts_to_sequences(df['patterns'])\n",
    "X = pad_sequences(ptrn2seq, padding='post')\n",
    "print('X shape = ', X.shape)\n",
    "\n",
    "lbl_enc = LabelEncoder()\n",
    "y = lbl_enc.fit_transform(df['tag'])\n",
    "print('y shape = ', y.shape)\n",
    "print('num of classes = ', len(np.unique(y)))"
   ]
  },
  {
   "cell_type": "code",
   "execution_count": null,
   "metadata": {},
   "outputs": [],
   "source": [
    "import tensorflow\n",
    "from tensorflow import keras\n",
    "from tensorflow.keras.models import Sequential\n",
    "from tensorflow.keras.layers import Input, Embedding, LSTM, LayerNormalization, Dense, Dropout\n",
    "\n",
    "model = Sequential()\n",
    "model.add(Input(shape=(X.shape[1])))\n",
    "model.add(Embedding(input_dim=vacab_size+1, output_dim=100))\n",
    "model.add(LSTM(32, return_sequences=True))\n",
    "model.add(LayerNormalization())\n",
    "model.add(LSTM(32, return_sequences=True))\n",
    "model.add(LayerNormalization())\n",
    "model.add(LSTM(32))\n",
    "model.add(LayerNormalization())\n",
    "model.add(Dense(128, activation=\"relu\"))\n",
    "model.add(LayerNormalization())\n",
    "model.add(Dropout(0.2))\n",
    "model.add(Dense(len(np.unique(y)), activation=\"softmax\"))\n",
    "model.compile(optimizer='adam', loss=\"sparse_categorical_crossentropy\", metrics=['accuracy'])\n",
    "\n",
    "model.summary()"
   ]
  },
  {
   "cell_type": "code",
   "execution_count": null,
   "metadata": {},
   "outputs": [],
   "source": [
    "model_history = model.fit(x=X,\n",
    "                          y=y,\n",
    "                          batch_size=10,\n",
    "                          callbacks=[tensorflow.keras.callbacks.EarlyStopping(monitor='accuracy', patience=3)],\n",
    "                          epochs=100)"
   ]
  },
  {
   "cell_type": "code",
   "execution_count": null,
   "metadata": {},
   "outputs": [],
   "source": [
    "import re\n",
    "import random\n",
    "\n",
    "\n",
    "def generate_answer(): \n",
    "    while True:\n",
    "        pattern=input()\n",
    "        text = []\n",
    "        txt = re.sub('[^a-zA-Z\\']', ' ', pattern)\n",
    "        txt = txt.lower()\n",
    "        txt = txt.split()\n",
    "        txt = \" \".join(txt)\n",
    "        text.append(txt)\n",
    "\n",
    "        x_test = tokenizer.texts_to_sequences([text])  # Note the extra brackets\n",
    "        x_test = pad_sequences(x_test, padding='post', maxlen=X.shape[1])\n",
    "        y_pred = model.predict(x_test)\n",
    "        y_pred = y_pred.argmax()\n",
    "        tag = lbl_enc.inverse_transform([y_pred])[0]\n",
    "        responses = df[df['tag'] == tag]['responses'].values[0]\n",
    "        print(\"model: {}\".format(random.choice(responses)))\n",
    "        if pattern=='quite':\n",
    "            break;"
   ]
  },
  {
   "cell_type": "code",
   "execution_count": null,
   "metadata": {},
   "outputs": [],
   "source": [
    "generate_answer()"
   ]
  }
 ],
 "metadata": {
  "kernelspec": {
   "display_name": "Python 3",
   "language": "python",
   "name": "python3"
  },
  "language_info": {
   "codemirror_mode": {
    "name": "ipython",
    "version": 3
   },
   "file_extension": ".py",
   "mimetype": "text/x-python",
   "name": "python",
   "nbconvert_exporter": "python",
   "pygments_lexer": "ipython3",
   "version": "3.10.13"
  }
 },
 "nbformat": 4,
 "nbformat_minor": 2
}
