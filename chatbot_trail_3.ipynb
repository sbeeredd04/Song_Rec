{
 "cells": [
  {
   "cell_type": "code",
   "execution_count": 1,
   "metadata": {},
   "outputs": [],
   "source": [
    "# This Python 3 environment comes with many helpful analytics libraries installed\n",
    "# It is defined by the kaggle/python Docker image: https://github.com/kaggle/docker-python\n",
    "# For example, here's several helpful packages to load\n",
    "\n",
    "import numpy as np # linear algebra\n",
    "import pandas as pd # data processing, CSV file I/O (e.g. pd.read_csv)\n",
    "\n",
    "# Input data files are available in the read-only \"../input/\" directory\n",
    "# For example, running this (by clicking run or pressing Shift+Enter) will list all files under the input directory\n",
    "\n",
    "import os\n",
    "for dirname, _, filenames in os.walk('/kaggle/input'):\n",
    "    for filename in filenames:\n",
    "        print(os.path.join(dirname, filename))\n",
    "\n",
    "# You can write up to 20GB to the current directory (/kaggle/working/) that gets preserved as output when you create a version using \"Save & Run All\" \n",
    "# You can also write temporary files to /kaggle/temp/, but they won't be saved outside of the current session"
   ]
  },
  {
   "cell_type": "code",
   "execution_count": 2,
   "metadata": {},
   "outputs": [],
   "source": [
    "import json\n",
    "\n",
    "with open('chatbot_dataset/intents_1.json', 'r') as f:\n",
    "    data = json.load(f)\n",
    "\n",
    "df = pd.DataFrame(data['intents'])"
   ]
  },
  {
   "cell_type": "code",
   "execution_count": 3,
   "metadata": {},
   "outputs": [
    {
     "data": {
      "text/html": [
       "<div>\n",
       "<style scoped>\n",
       "    .dataframe tbody tr th:only-of-type {\n",
       "        vertical-align: middle;\n",
       "    }\n",
       "\n",
       "    .dataframe tbody tr th {\n",
       "        vertical-align: top;\n",
       "    }\n",
       "\n",
       "    .dataframe thead th {\n",
       "        text-align: right;\n",
       "    }\n",
       "</style>\n",
       "<table border=\"1\" class=\"dataframe\">\n",
       "  <thead>\n",
       "    <tr style=\"text-align: right;\">\n",
       "      <th></th>\n",
       "      <th>tag</th>\n",
       "      <th>patterns</th>\n",
       "      <th>responses</th>\n",
       "    </tr>\n",
       "  </thead>\n",
       "  <tbody>\n",
       "    <tr>\n",
       "      <th>0</th>\n",
       "      <td>greeting</td>\n",
       "      <td>[Hi, Hey, Is anyone there?, Hi there, Hello, Hey there, Howdy, Hola, Bonjour, Konnichiwa, Guten tag, Ola]</td>\n",
       "      <td>[Hello there. Tell me how are you feeling today?, Hi there. What brings you here today?, Hi there. How are you feeling today?, Great to see you. How do you feel currently?, Hello there. Glad to see you're back. What's going on in your world right now?]</td>\n",
       "    </tr>\n",
       "    <tr>\n",
       "      <th>1</th>\n",
       "      <td>morning</td>\n",
       "      <td>[Good morning]</td>\n",
       "      <td>[Good morning. I hope you had a good night's sleep. How are you feeling today? ]</td>\n",
       "    </tr>\n",
       "    <tr>\n",
       "      <th>2</th>\n",
       "      <td>afternoon</td>\n",
       "      <td>[Good afternoon]</td>\n",
       "      <td>[Good afternoon. How is your day going?]</td>\n",
       "    </tr>\n",
       "    <tr>\n",
       "      <th>3</th>\n",
       "      <td>evening</td>\n",
       "      <td>[Good evening]</td>\n",
       "      <td>[Good evening. How has your day been?]</td>\n",
       "    </tr>\n",
       "    <tr>\n",
       "      <th>4</th>\n",
       "      <td>night</td>\n",
       "      <td>[Good night]</td>\n",
       "      <td>[Good night. Get some proper sleep, Good night. Sweet dreams.]</td>\n",
       "    </tr>\n",
       "  </tbody>\n",
       "</table>\n",
       "</div>"
      ],
      "text/plain": [
       "         tag  \\\n",
       "0   greeting   \n",
       "1    morning   \n",
       "2  afternoon   \n",
       "3    evening   \n",
       "4      night   \n",
       "\n",
       "                                                                                                    patterns  \\\n",
       "0  [Hi, Hey, Is anyone there?, Hi there, Hello, Hey there, Howdy, Hola, Bonjour, Konnichiwa, Guten tag, Ola]   \n",
       "1                                                                                             [Good morning]   \n",
       "2                                                                                           [Good afternoon]   \n",
       "3                                                                                             [Good evening]   \n",
       "4                                                                                               [Good night]   \n",
       "\n",
       "                                                                                                                                                                                                                                                      responses  \n",
       "0  [Hello there. Tell me how are you feeling today?, Hi there. What brings you here today?, Hi there. How are you feeling today?, Great to see you. How do you feel currently?, Hello there. Glad to see you're back. What's going on in your world right now?]  \n",
       "1                                                                                                                                                                              [Good morning. I hope you had a good night's sleep. How are you feeling today? ]  \n",
       "2                                                                                                                                                                                                                      [Good afternoon. How is your day going?]  \n",
       "3                                                                                                                                                                                                                        [Good evening. How has your day been?]  \n",
       "4                                                                                                                                                                                                [Good night. Get some proper sleep, Good night. Sweet dreams.]  "
      ]
     },
     "execution_count": 3,
     "metadata": {},
     "output_type": "execute_result"
    }
   ],
   "source": [
    "pd.options.display.max_colwidth=None\n",
    "df.head()"
   ]
  },
  {
   "cell_type": "code",
   "execution_count": 4,
   "metadata": {},
   "outputs": [],
   "source": [
    "dic = {\"tag\":[], \"patterns\":[], \"responses\":[]}\n",
    "for example in data['intents']:\n",
    "    for pattern in example['patterns']:\n",
    "        dic['patterns'].append(pattern)\n",
    "        dic['tag'].append(example['tag'])\n",
    "        dic['responses'].append(example['responses'])"
   ]
  },
  {
   "cell_type": "code",
   "execution_count": 5,
   "metadata": {},
   "outputs": [
    {
     "data": {
      "text/html": [
       "<div>\n",
       "<style scoped>\n",
       "    .dataframe tbody tr th:only-of-type {\n",
       "        vertical-align: middle;\n",
       "    }\n",
       "\n",
       "    .dataframe tbody tr th {\n",
       "        vertical-align: top;\n",
       "    }\n",
       "\n",
       "    .dataframe thead th {\n",
       "        text-align: right;\n",
       "    }\n",
       "</style>\n",
       "<table border=\"1\" class=\"dataframe\">\n",
       "  <thead>\n",
       "    <tr style=\"text-align: right;\">\n",
       "      <th></th>\n",
       "      <th>tag</th>\n",
       "      <th>patterns</th>\n",
       "      <th>responses</th>\n",
       "    </tr>\n",
       "  </thead>\n",
       "  <tbody>\n",
       "    <tr>\n",
       "      <th>0</th>\n",
       "      <td>greeting</td>\n",
       "      <td>Hi</td>\n",
       "      <td>[Hello ther...</td>\n",
       "    </tr>\n",
       "    <tr>\n",
       "      <th>1</th>\n",
       "      <td>greeting</td>\n",
       "      <td>Hey</td>\n",
       "      <td>[Hello ther...</td>\n",
       "    </tr>\n",
       "    <tr>\n",
       "      <th>2</th>\n",
       "      <td>greeting</td>\n",
       "      <td>Is anyone t...</td>\n",
       "      <td>[Hello ther...</td>\n",
       "    </tr>\n",
       "    <tr>\n",
       "      <th>3</th>\n",
       "      <td>greeting</td>\n",
       "      <td>Hi there</td>\n",
       "      <td>[Hello ther...</td>\n",
       "    </tr>\n",
       "    <tr>\n",
       "      <th>4</th>\n",
       "      <td>greeting</td>\n",
       "      <td>Hello</td>\n",
       "      <td>[Hello ther...</td>\n",
       "    </tr>\n",
       "    <tr>\n",
       "      <th>...</th>\n",
       "      <td>...</td>\n",
       "      <td>...</td>\n",
       "      <td>...</td>\n",
       "    </tr>\n",
       "    <tr>\n",
       "      <th>227</th>\n",
       "      <td>fact-29</td>\n",
       "      <td>How do I kn...</td>\n",
       "      <td>[If your be...</td>\n",
       "    </tr>\n",
       "    <tr>\n",
       "      <th>228</th>\n",
       "      <td>fact-30</td>\n",
       "      <td>How can I m...</td>\n",
       "      <td>[A lot of p...</td>\n",
       "    </tr>\n",
       "    <tr>\n",
       "      <th>229</th>\n",
       "      <td>fact-31</td>\n",
       "      <td>What's the ...</td>\n",
       "      <td>[Stress and...</td>\n",
       "    </tr>\n",
       "    <tr>\n",
       "      <th>230</th>\n",
       "      <td>fact-32</td>\n",
       "      <td>What's the ...</td>\n",
       "      <td>[Sadness is...</td>\n",
       "    </tr>\n",
       "    <tr>\n",
       "      <th>231</th>\n",
       "      <td>fact-32</td>\n",
       "      <td>difference ...</td>\n",
       "      <td>[Sadness is...</td>\n",
       "    </tr>\n",
       "  </tbody>\n",
       "</table>\n",
       "<p>232 rows × 3 columns</p>\n",
       "</div>"
      ],
      "text/plain": [
       "          tag        patterns       responses\n",
       "0    greeting              Hi  [Hello ther...\n",
       "1    greeting             Hey  [Hello ther...\n",
       "2    greeting  Is anyone t...  [Hello ther...\n",
       "3    greeting        Hi there  [Hello ther...\n",
       "4    greeting           Hello  [Hello ther...\n",
       "..        ...             ...             ...\n",
       "227   fact-29  How do I kn...  [If your be...\n",
       "228   fact-30  How can I m...  [A lot of p...\n",
       "229   fact-31  What's the ...  [Stress and...\n",
       "230   fact-32  What's the ...  [Sadness is...\n",
       "231   fact-32  difference ...  [Sadness is...\n",
       "\n",
       "[232 rows x 3 columns]"
      ]
     },
     "execution_count": 5,
     "metadata": {},
     "output_type": "execute_result"
    }
   ],
   "source": [
    "pd.options.display.max_colwidth=15\n",
    "df = pd.DataFrame.from_dict(dic)\n",
    "df"
   ]
  },
  {
   "cell_type": "code",
   "execution_count": 6,
   "metadata": {},
   "outputs": [
    {
     "data": {
      "text/plain": [
       "array(['greeting', 'morning', 'afternoon', 'evening', 'night', 'goodbye',\n",
       "       'thanks', 'no-response', 'neutral-response', 'about', 'skill',\n",
       "       'creation', 'name', 'help', 'sad', 'stressed', 'worthless',\n",
       "       'depressed', 'happy', 'casual', 'anxious', 'not-talking', 'sleep',\n",
       "       'scared', 'death', 'understand', 'done', 'suicide', 'hate-you',\n",
       "       'hate-me', 'default', 'jokes', 'repeat', 'wrong', 'stupid',\n",
       "       'location', 'something-else', 'friends', 'ask', 'problem',\n",
       "       'no-approach', 'learn-more', 'user-agree', 'meditation',\n",
       "       'user-meditation', 'pandora-useful', 'user-advice',\n",
       "       'learn-mental-health', 'mental-health-fact', 'fact-1', 'fact-2',\n",
       "       'fact-3', 'fact-5', 'fact-6', 'fact-7', 'fact-8', 'fact-9',\n",
       "       'fact-10', 'fact-11', 'fact-12', 'fact-13', 'fact-14', 'fact-15',\n",
       "       'fact-16', 'fact-17', 'fact-18', 'fact-19', 'fact-20', 'fact-21',\n",
       "       'fact-22', 'fact-23', 'fact-24', 'fact-25', 'fact-26', 'fact-27',\n",
       "       'fact-28', 'fact-29', 'fact-30', 'fact-31', 'fact-32'],\n",
       "      dtype=object)"
      ]
     },
     "execution_count": 6,
     "metadata": {},
     "output_type": "execute_result"
    }
   ],
   "source": [
    "df['tag'].unique()"
   ]
  },
  {
   "cell_type": "code",
   "execution_count": 7,
   "metadata": {},
   "outputs": [
    {
     "data": {
      "text/plain": [
       "80"
      ]
     },
     "execution_count": 7,
     "metadata": {},
     "output_type": "execute_result"
    }
   ],
   "source": [
    "df['tag'].nunique()"
   ]
  },
  {
   "cell_type": "code",
   "execution_count": 8,
   "metadata": {},
   "outputs": [
    {
     "name": "stderr",
     "output_type": "stream",
     "text": [
      "2024-01-15 03:47:13.039657: I external/local_tsl/tsl/cuda/cudart_stub.cc:31] Could not find cuda drivers on your machine, GPU will not be used.\n",
      "2024-01-15 03:47:13.076959: E external/local_xla/xla/stream_executor/cuda/cuda_dnn.cc:9261] Unable to register cuDNN factory: Attempting to register factory for plugin cuDNN when one has already been registered\n",
      "2024-01-15 03:47:13.077004: E external/local_xla/xla/stream_executor/cuda/cuda_fft.cc:607] Unable to register cuFFT factory: Attempting to register factory for plugin cuFFT when one has already been registered\n",
      "2024-01-15 03:47:13.078151: E external/local_xla/xla/stream_executor/cuda/cuda_blas.cc:1515] Unable to register cuBLAS factory: Attempting to register factory for plugin cuBLAS when one has already been registered\n",
      "2024-01-15 03:47:13.084059: I external/local_tsl/tsl/cuda/cudart_stub.cc:31] Could not find cuda drivers on your machine, GPU will not be used.\n",
      "2024-01-15 03:47:13.084960: I tensorflow/core/platform/cpu_feature_guard.cc:182] This TensorFlow binary is optimized to use available CPU instructions in performance-critical operations.\n",
      "To enable the following instructions: AVX2 FMA, in other operations, rebuild TensorFlow with the appropriate compiler flags.\n",
      "2024-01-15 03:47:14.374843: W tensorflow/compiler/tf2tensorrt/utils/py_utils.cc:38] TF-TRT Warning: Could not find TensorRT\n"
     ]
    },
    {
     "data": {
      "text/plain": [
       "{'num_words': None,\n",
       " 'filters': '!\"#$%&()*+,-./:;<=>?@[\\\\]^_`{|}~\\t\\n',\n",
       " 'lower': True,\n",
       " 'split': ' ',\n",
       " 'char_level': False,\n",
       " 'oov_token': None,\n",
       " 'document_count': 232,\n",
       " 'word_counts': '{\"hi\": 2, \"hey\": 2, \"is\": 13, \"anyone\": 2, \"there\": 5, \"hello\": 1, \"howdy\": 1, \"hola\": 1, \"bonjour\": 1, \"konnichiwa\": 1, \"guten\": 1, \"tag\": 1, \"ola\": 1, \"good\": 5, \"morning\": 1, \"afternoon\": 1, \"evening\": 1, \"night\": 1, \"bye\": 3, \"see\": 2, \"you\": 38, \"later\": 1, \"goodbye\": 1, \"au\": 1, \"revoir\": 1, \"sayonara\": 1, \"ok\": 4, \"then\": 1, \"fare\": 1, \"thee\": 1, \"well\": 2, \"thanks\": 2, \"thank\": 3, \"that\\'s\": 3, \"helpful\": 1, \"for\": 10, \"the\": 10, \"help\": 6, \"than\": 1, \"very\": 3, \"much\": 4, \"nothing\": 3, \"who\": 6, \"are\": 15, \"what\": 29, \"tell\": 6, \"me\": 19, \"more\": 6, \"about\": 20, \"yourself\": 3, \"your\": 3, \"name\": 4, \"should\": 3, \"i\": 95, \"call\": 1, \"what\\'s\": 3, \"can\": 16, \"do\": 14, \"created\": 2, \"how\": 8, \"were\": 2, \"made\": 1, \"my\": 13, \"am\": 17, \"go\": 4, \"by\": 1, \"could\": 2, \"give\": 1, \"a\": 12, \"hand\": 1, \"please\": 2, \"need\": 6, \"support\": 3, \"feeling\": 1, \"lonely\": 4, \"so\": 10, \"feel\": 16, \"down\": 1, \"sad\": 2, \"empty\": 1, \"don\\'t\": 11, \"have\": 9, \"stressed\": 4, \"out\": 3, \"stuck\": 1, \"still\": 1, \"burned\": 1, \"worthless\": 1, \"no\": 5, \"one\": 1, \"likes\": 1, \"can\\'t\": 7, \"anything\": 2, \"useless\": 2, \"makes\": 1, \"sense\": 2, \"anymore\": 2, \"take\": 1, \"it\": 7, \"depressed\": 3, \"think\": 3, \"i\\'m\": 9, \"depression\": 7, \"great\": 1, \"today\": 1, \"happy\": 2, \"cheerful\": 1, \"fine\": 2, \"oh\": 1, \"okay\": 1, \"nice\": 1, \"whatever\": 1, \"k\": 1, \"yeah\": 3, \"yes\": 2, \"not\": 5, \"really\": 2, \"anxious\": 2, \"because\": 4, \"of\": 8, \"want\": 9, \"to\": 24, \"talk\": 5, \"just\": 3, \"stay\": 1, \"away\": 4, \"bring\": 1, \"myself\": 7, \"open\": 1, \"up\": 2, \"shut\": 1, \"insominia\": 1, \"suffering\": 2, \"from\": 2, \"insomnia\": 1, \"sleep\": 3, \"haven\\'t\": 2, \"slept\": 1, \"last\": 1, \"days\": 2, \"seem\": 1, \"had\": 1, \"proper\": 1, \"past\": 1, \"few\": 1, \"scared\": 2, \"that\": 8, \"sounds\": 3, \"awful\": 1, \"this\": 3, \"way\": 1, \"mom\": 1, \"died\": 3, \"brother\": 1, \"dad\": 1, \"passed\": 3, \"sister\": 1, \"someone\": 2, \"in\": 3, \"family\": 2, \"friend\": 1, \"understand\": 1, \"you\\'re\": 5, \"some\": 4, \"robot\": 1, \"would\": 5, \"know\": 8, \"possibly\": 1, \"going\": 3, \"through\": 1, \"nobody\": 1, \"understands\": 1, \"all\": 4, \"say\": 2, \"else\": 4, \"be\": 2, \"kill\": 2, \"i\\'ve\": 2, \"thought\": 1, \"killing\": 1, \"die\": 1, \"commit\": 1, \"suicide\": 1, \"hate\": 3, \"like\": 6, \"trust\": 1, \"exams\": 4, \"friends\": 2, \"relationship\": 1, \"boyfriend\": 1, \"girlfriend\": 1, \"money\": 1, \"financial\": 1, \"problems\": 5, \"joke\": 2, \"another\": 2, \"already\": 2, \"told\": 1, \"mentioned\": 1, \"why\": 2, \"repeating\": 1, \"saying\": 1, \"doesn\\'t\": 1, \"make\": 1, \"wrong\": 2, \"response\": 1, \"answer\": 1, \"stupid\": 1, \"crazy\": 1, \"dumb\": 2, \"where\": 6, \"live\": 1, \"location\": 1, \"something\": 4, \"let\\'s\": 1, \"we\": 1, \"any\": 2, \"ask\": 1, \"probably\": 2, \"approaching\": 1, \"prepared\": 1, \"enough\": 1, \"guess\": 2, \"sure\": 1, \"learn\": 6, \"right\": 3, \"deserve\": 1, \"break\": 1, \"absolutely\": 1, \"hmmm\": 1, \"useful\": 2, \"did\": 1, \"said\": 1, \"and\": 5, \"alot\": 1, \"better\": 2, \"now\": 1, \"again\": 1, \"i\\'ll\": 1, \"continue\": 1, \"practicing\": 1, \"meditation\": 1, \"focus\": 1, \"on\": 2, \"control\": 1, \"advice\": 3, \"mental\": 25, \"health\": 19, \"interested\": 1, \"learning\": 1, \"fact\": 2, \"define\": 2, \"important\": 1, \"importance\": 1, \"if\": 6, \"mentally\": 1, \"ill\": 1, \"therapist\": 2, \"does\": 3, \"therapy\": 4, \"mean\": 1, \"illness\": 5, \"affect\": 1, \"causes\": 2, \"warning\": 1, \"signs\": 1, \"people\": 1, \"with\": 1, \"recover\": 1, \"appears\": 1, \"symptoms\": 1, \"disorder\": 1, \"find\": 4, \"professional\": 2, \"or\": 2, \"child\": 2, \"treatment\": 3, \"options\": 1, \"available\": 1, \"become\": 1, \"involved\": 1, \"difference\": 4, \"between\": 4, \"professionals\": 2, \"get\": 1, \"before\": 1, \"starting\": 1, \"new\": 1, \"medication\": 1, \"types\": 2, \"different\": 1, \"group\": 1, \"prevent\": 1, \"cures\": 1, \"cure\": 1, \"worried\": 1, \"unwell\": 1, \"maintain\": 1, \"social\": 1, \"connections\": 1, \"anxiety\": 1, \"stress\": 1, \"sadness\": 2}',\n",
       " 'word_docs': '{\"hi\": 2, \"hey\": 2, \"anyone\": 2, \"is\": 13, \"there\": 5, \"hello\": 1, \"howdy\": 1, \"hola\": 1, \"bonjour\": 1, \"konnichiwa\": 1, \"tag\": 1, \"guten\": 1, \"ola\": 1, \"good\": 5, \"morning\": 1, \"afternoon\": 1, \"evening\": 1, \"night\": 1, \"bye\": 3, \"see\": 2, \"you\": 37, \"later\": 1, \"goodbye\": 1, \"au\": 1, \"revoir\": 1, \"sayonara\": 1, \"ok\": 4, \"then\": 1, \"fare\": 1, \"well\": 2, \"thee\": 1, \"thanks\": 2, \"thank\": 3, \"helpful\": 1, \"that\\'s\": 3, \"help\": 6, \"for\": 10, \"the\": 10, \"much\": 4, \"very\": 3, \"than\": 1, \"nothing\": 3, \"who\": 6, \"are\": 15, \"what\": 29, \"about\": 20, \"yourself\": 3, \"me\": 19, \"more\": 6, \"tell\": 6, \"your\": 3, \"name\": 4, \"should\": 3, \"i\": 88, \"call\": 1, \"what\\'s\": 3, \"can\": 16, \"do\": 12, \"created\": 2, \"were\": 2, \"how\": 8, \"made\": 1, \"my\": 13, \"am\": 17, \"go\": 4, \"by\": 1, \"could\": 2, \"hand\": 1, \"please\": 2, \"a\": 12, \"give\": 1, \"support\": 3, \"need\": 6, \"lonely\": 4, \"feeling\": 1, \"so\": 10, \"down\": 1, \"feel\": 16, \"sad\": 2, \"empty\": 1, \"don\\'t\": 11, \"have\": 9, \"out\": 3, \"stressed\": 4, \"stuck\": 1, \"still\": 1, \"burned\": 1, \"worthless\": 1, \"no\": 5, \"likes\": 1, \"one\": 1, \"can\\'t\": 7, \"anything\": 2, \"useless\": 2, \"makes\": 1, \"anymore\": 2, \"sense\": 2, \"take\": 1, \"it\": 7, \"depressed\": 3, \"i\\'m\": 9, \"think\": 3, \"depression\": 7, \"today\": 1, \"great\": 1, \"happy\": 2, \"cheerful\": 1, \"fine\": 2, \"oh\": 1, \"okay\": 1, \"nice\": 1, \"whatever\": 1, \"k\": 1, \"yeah\": 3, \"yes\": 2, \"really\": 2, \"not\": 5, \"anxious\": 2, \"because\": 3, \"of\": 7, \"to\": 23, \"talk\": 5, \"want\": 9, \"away\": 4, \"stay\": 1, \"just\": 3, \"open\": 1, \"bring\": 1, \"myself\": 7, \"up\": 2, \"shut\": 1, \"insominia\": 1, \"insomnia\": 1, \"suffering\": 2, \"from\": 2, \"sleep\": 3, \"haven\\'t\": 2, \"days\": 2, \"slept\": 1, \"last\": 1, \"seem\": 1, \"past\": 1, \"few\": 1, \"proper\": 1, \"had\": 1, \"scared\": 2, \"that\": 8, \"sounds\": 3, \"awful\": 1, \"this\": 3, \"way\": 1, \"mom\": 1, \"died\": 3, \"brother\": 1, \"dad\": 1, \"passed\": 3, \"sister\": 1, \"family\": 2, \"in\": 3, \"someone\": 2, \"friend\": 1, \"understand\": 1, \"some\": 4, \"know\": 8, \"you\\'re\": 5, \"would\": 5, \"robot\": 1, \"possibly\": 1, \"going\": 3, \"through\": 1, \"nobody\": 1, \"understands\": 1, \"all\": 4, \"say\": 2, \"else\": 4, \"be\": 2, \"kill\": 2, \"thought\": 1, \"i\\'ve\": 2, \"killing\": 1, \"die\": 1, \"suicide\": 1, \"commit\": 1, \"hate\": 3, \"like\": 6, \"trust\": 1, \"exams\": 4, \"friends\": 2, \"relationship\": 1, \"boyfriend\": 1, \"girlfriend\": 1, \"money\": 1, \"problems\": 5, \"financial\": 1, \"joke\": 2, \"another\": 2, \"told\": 1, \"already\": 2, \"mentioned\": 1, \"repeating\": 1, \"why\": 2, \"saying\": 1, \"make\": 1, \"doesn\\'t\": 1, \"wrong\": 2, \"response\": 1, \"answer\": 1, \"stupid\": 1, \"crazy\": 1, \"dumb\": 2, \"where\": 6, \"live\": 1, \"location\": 1, \"something\": 4, \"let\\'s\": 1, \"we\": 1, \"any\": 2, \"ask\": 1, \"enough\": 1, \"probably\": 2, \"approaching\": 1, \"prepared\": 1, \"guess\": 2, \"learn\": 6, \"sure\": 1, \"deserve\": 1, \"break\": 1, \"right\": 3, \"absolutely\": 1, \"useful\": 2, \"hmmm\": 1, \"alot\": 1, \"did\": 1, \"better\": 2, \"and\": 5, \"said\": 1, \"now\": 1, \"focus\": 1, \"practicing\": 1, \"again\": 1, \"on\": 2, \"i\\'ll\": 1, \"meditation\": 1, \"continue\": 1, \"control\": 1, \"advice\": 3, \"health\": 19, \"mental\": 25, \"learning\": 1, \"interested\": 1, \"fact\": 2, \"define\": 2, \"important\": 1, \"importance\": 1, \"if\": 6, \"mentally\": 1, \"ill\": 1, \"therapist\": 2, \"does\": 3, \"therapy\": 4, \"mean\": 1, \"illness\": 5, \"affect\": 1, \"causes\": 2, \"signs\": 1, \"warning\": 1, \"recover\": 1, \"people\": 1, \"with\": 1, \"appears\": 1, \"symptoms\": 1, \"disorder\": 1, \"child\": 2, \"find\": 4, \"professional\": 2, \"or\": 2, \"available\": 1, \"treatment\": 3, \"options\": 1, \"involved\": 1, \"become\": 1, \"between\": 4, \"professionals\": 2, \"difference\": 4, \"get\": 1, \"starting\": 1, \"medication\": 1, \"new\": 1, \"before\": 1, \"types\": 2, \"different\": 1, \"group\": 1, \"prevent\": 1, \"cures\": 1, \"cure\": 1, \"worried\": 1, \"unwell\": 1, \"maintain\": 1, \"connections\": 1, \"social\": 1, \"anxiety\": 1, \"stress\": 1, \"sadness\": 2}',\n",
       " 'index_docs': '{\"95\": 2, \"96\": 2, \"97\": 2, \"14\": 13, \"41\": 5, \"150\": 1, \"151\": 1, \"152\": 1, \"153\": 1, \"154\": 1, \"156\": 1, \"155\": 1, \"157\": 1, \"42\": 5, \"158\": 1, \"159\": 1, \"160\": 1, \"161\": 1, \"68\": 3, \"98\": 2, \"2\": 37, \"162\": 1, \"163\": 1, \"164\": 1, \"165\": 1, \"166\": 1, \"51\": 4, \"167\": 1, \"168\": 1, \"99\": 2, \"169\": 1, \"100\": 2, \"69\": 3, \"170\": 1, \"70\": 3, \"32\": 6, \"18\": 10, \"19\": 10, \"52\": 4, \"71\": 3, \"171\": 1, \"72\": 3, \"33\": 6, \"12\": 15, \"3\": 29, \"6\": 20, \"73\": 3, \"7\": 19, \"35\": 6, \"34\": 6, \"74\": 3, \"53\": 4, \"75\": 3, \"1\": 88, \"172\": 1, \"76\": 3, \"10\": 16, \"13\": 12, \"101\": 2, \"102\": 2, \"24\": 8, \"173\": 1, \"15\": 13, \"9\": 17, \"54\": 4, \"174\": 1, \"103\": 2, \"176\": 1, \"104\": 2, \"16\": 12, \"175\": 1, \"77\": 3, \"36\": 6, \"55\": 4, \"177\": 1, \"20\": 10, \"178\": 1, \"11\": 16, \"105\": 2, \"179\": 1, \"17\": 11, \"21\": 9, \"78\": 3, \"56\": 4, \"180\": 1, \"181\": 1, \"182\": 1, \"183\": 1, \"43\": 5, \"185\": 1, \"184\": 1, \"28\": 7, \"106\": 2, \"107\": 2, \"186\": 1, \"109\": 2, \"108\": 2, \"187\": 1, \"29\": 7, \"79\": 3, \"22\": 9, \"80\": 3, \"30\": 7, \"189\": 1, \"188\": 1, \"110\": 2, \"190\": 1, \"111\": 2, \"191\": 1, \"192\": 1, \"193\": 1, \"194\": 1, \"195\": 1, \"81\": 3, \"112\": 2, \"113\": 2, \"44\": 5, \"114\": 2, \"57\": 3, \"25\": 7, \"5\": 23, \"45\": 5, \"23\": 9, \"58\": 4, \"196\": 1, \"82\": 3, \"198\": 1, \"197\": 1, \"31\": 7, \"115\": 2, \"199\": 1, \"200\": 1, \"201\": 1, \"116\": 2, \"117\": 2, \"83\": 3, \"118\": 2, \"119\": 2, \"202\": 1, \"203\": 1, \"204\": 1, \"207\": 1, \"208\": 1, \"206\": 1, \"205\": 1, \"120\": 2, \"26\": 8, \"84\": 3, \"209\": 1, \"85\": 3, \"210\": 1, \"211\": 1, \"86\": 3, \"212\": 1, \"213\": 1, \"87\": 3, \"214\": 1, \"122\": 2, \"88\": 3, \"121\": 2, \"215\": 1, \"216\": 1, \"59\": 4, \"27\": 8, \"46\": 5, \"47\": 5, \"217\": 1, \"218\": 1, \"89\": 3, \"219\": 1, \"220\": 1, \"221\": 1, \"60\": 4, \"123\": 2, \"61\": 4, \"124\": 2, \"125\": 2, \"222\": 1, \"126\": 2, \"223\": 1, \"224\": 1, \"226\": 1, \"225\": 1, \"90\": 3, \"37\": 6, \"227\": 1, \"62\": 4, \"127\": 2, \"228\": 1, \"229\": 1, \"230\": 1, \"231\": 1, \"48\": 5, \"232\": 1, \"128\": 2, \"129\": 2, \"233\": 1, \"130\": 2, \"234\": 1, \"235\": 1, \"131\": 2, \"236\": 1, \"238\": 1, \"237\": 1, \"132\": 2, \"239\": 1, \"240\": 1, \"241\": 1, \"242\": 1, \"133\": 2, \"38\": 6, \"243\": 1, \"244\": 1, \"63\": 4, \"245\": 1, \"246\": 1, \"134\": 2, \"247\": 1, \"250\": 1, \"135\": 2, \"248\": 1, \"249\": 1, \"136\": 2, \"39\": 6, \"251\": 1, \"252\": 1, \"253\": 1, \"91\": 3, \"254\": 1, \"137\": 2, \"255\": 1, \"258\": 1, \"256\": 1, \"138\": 2, \"49\": 5, \"257\": 1, \"259\": 1, \"265\": 1, \"263\": 1, \"260\": 1, \"139\": 2, \"261\": 1, \"264\": 1, \"262\": 1, \"266\": 1, \"92\": 3, \"8\": 19, \"4\": 25, \"268\": 1, \"267\": 1, \"140\": 2, \"141\": 2, \"269\": 1, \"270\": 1, \"40\": 6, \"271\": 1, \"272\": 1, \"142\": 2, \"93\": 3, \"64\": 4, \"273\": 1, \"50\": 5, \"274\": 1, \"143\": 2, \"276\": 1, \"275\": 1, \"279\": 1, \"277\": 1, \"278\": 1, \"280\": 1, \"281\": 1, \"282\": 1, \"146\": 2, \"65\": 4, \"144\": 2, \"145\": 2, \"284\": 1, \"94\": 3, \"283\": 1, \"286\": 1, \"285\": 1, \"67\": 4, \"147\": 2, \"66\": 4, \"287\": 1, \"289\": 1, \"291\": 1, \"290\": 1, \"288\": 1, \"148\": 2, \"292\": 1, \"293\": 1, \"294\": 1, \"295\": 1, \"296\": 1, \"297\": 1, \"298\": 1, \"299\": 1, \"301\": 1, \"300\": 1, \"302\": 1, \"303\": 1, \"149\": 2}',\n",
       " 'index_word': '{\"1\": \"i\", \"2\": \"you\", \"3\": \"what\", \"4\": \"mental\", \"5\": \"to\", \"6\": \"about\", \"7\": \"me\", \"8\": \"health\", \"9\": \"am\", \"10\": \"can\", \"11\": \"feel\", \"12\": \"are\", \"13\": \"do\", \"14\": \"is\", \"15\": \"my\", \"16\": \"a\", \"17\": \"don\\'t\", \"18\": \"for\", \"19\": \"the\", \"20\": \"so\", \"21\": \"have\", \"22\": \"i\\'m\", \"23\": \"want\", \"24\": \"how\", \"25\": \"of\", \"26\": \"that\", \"27\": \"know\", \"28\": \"can\\'t\", \"29\": \"it\", \"30\": \"depression\", \"31\": \"myself\", \"32\": \"help\", \"33\": \"who\", \"34\": \"tell\", \"35\": \"more\", \"36\": \"need\", \"37\": \"like\", \"38\": \"where\", \"39\": \"learn\", \"40\": \"if\", \"41\": \"there\", \"42\": \"good\", \"43\": \"no\", \"44\": \"not\", \"45\": \"talk\", \"46\": \"you\\'re\", \"47\": \"would\", \"48\": \"problems\", \"49\": \"and\", \"50\": \"illness\", \"51\": \"ok\", \"52\": \"much\", \"53\": \"name\", \"54\": \"go\", \"55\": \"lonely\", \"56\": \"stressed\", \"57\": \"because\", \"58\": \"away\", \"59\": \"some\", \"60\": \"all\", \"61\": \"else\", \"62\": \"exams\", \"63\": \"something\", \"64\": \"therapy\", \"65\": \"find\", \"66\": \"difference\", \"67\": \"between\", \"68\": \"bye\", \"69\": \"thank\", \"70\": \"that\\'s\", \"71\": \"very\", \"72\": \"nothing\", \"73\": \"yourself\", \"74\": \"your\", \"75\": \"should\", \"76\": \"what\\'s\", \"77\": \"support\", \"78\": \"out\", \"79\": \"depressed\", \"80\": \"think\", \"81\": \"yeah\", \"82\": \"just\", \"83\": \"sleep\", \"84\": \"sounds\", \"85\": \"this\", \"86\": \"died\", \"87\": \"passed\", \"88\": \"in\", \"89\": \"going\", \"90\": \"hate\", \"91\": \"right\", \"92\": \"advice\", \"93\": \"does\", \"94\": \"treatment\", \"95\": \"hi\", \"96\": \"hey\", \"97\": \"anyone\", \"98\": \"see\", \"99\": \"well\", \"100\": \"thanks\", \"101\": \"created\", \"102\": \"were\", \"103\": \"could\", \"104\": \"please\", \"105\": \"sad\", \"106\": \"anything\", \"107\": \"useless\", \"108\": \"sense\", \"109\": \"anymore\", \"110\": \"happy\", \"111\": \"fine\", \"112\": \"yes\", \"113\": \"really\", \"114\": \"anxious\", \"115\": \"up\", \"116\": \"suffering\", \"117\": \"from\", \"118\": \"haven\\'t\", \"119\": \"days\", \"120\": \"scared\", \"121\": \"someone\", \"122\": \"family\", \"123\": \"say\", \"124\": \"be\", \"125\": \"kill\", \"126\": \"i\\'ve\", \"127\": \"friends\", \"128\": \"joke\", \"129\": \"another\", \"130\": \"already\", \"131\": \"why\", \"132\": \"wrong\", \"133\": \"dumb\", \"134\": \"any\", \"135\": \"probably\", \"136\": \"guess\", \"137\": \"useful\", \"138\": \"better\", \"139\": \"on\", \"140\": \"fact\", \"141\": \"define\", \"142\": \"therapist\", \"143\": \"causes\", \"144\": \"professional\", \"145\": \"or\", \"146\": \"child\", \"147\": \"professionals\", \"148\": \"types\", \"149\": \"sadness\", \"150\": \"hello\", \"151\": \"howdy\", \"152\": \"hola\", \"153\": \"bonjour\", \"154\": \"konnichiwa\", \"155\": \"guten\", \"156\": \"tag\", \"157\": \"ola\", \"158\": \"morning\", \"159\": \"afternoon\", \"160\": \"evening\", \"161\": \"night\", \"162\": \"later\", \"163\": \"goodbye\", \"164\": \"au\", \"165\": \"revoir\", \"166\": \"sayonara\", \"167\": \"then\", \"168\": \"fare\", \"169\": \"thee\", \"170\": \"helpful\", \"171\": \"than\", \"172\": \"call\", \"173\": \"made\", \"174\": \"by\", \"175\": \"give\", \"176\": \"hand\", \"177\": \"feeling\", \"178\": \"down\", \"179\": \"empty\", \"180\": \"stuck\", \"181\": \"still\", \"182\": \"burned\", \"183\": \"worthless\", \"184\": \"one\", \"185\": \"likes\", \"186\": \"makes\", \"187\": \"take\", \"188\": \"great\", \"189\": \"today\", \"190\": \"cheerful\", \"191\": \"oh\", \"192\": \"okay\", \"193\": \"nice\", \"194\": \"whatever\", \"195\": \"k\", \"196\": \"stay\", \"197\": \"bring\", \"198\": \"open\", \"199\": \"shut\", \"200\": \"insominia\", \"201\": \"insomnia\", \"202\": \"slept\", \"203\": \"last\", \"204\": \"seem\", \"205\": \"had\", \"206\": \"proper\", \"207\": \"past\", \"208\": \"few\", \"209\": \"awful\", \"210\": \"way\", \"211\": \"mom\", \"212\": \"brother\", \"213\": \"dad\", \"214\": \"sister\", \"215\": \"friend\", \"216\": \"understand\", \"217\": \"robot\", \"218\": \"possibly\", \"219\": \"through\", \"220\": \"nobody\", \"221\": \"understands\", \"222\": \"thought\", \"223\": \"killing\", \"224\": \"die\", \"225\": \"commit\", \"226\": \"suicide\", \"227\": \"trust\", \"228\": \"relationship\", \"229\": \"boyfriend\", \"230\": \"girlfriend\", \"231\": \"money\", \"232\": \"financial\", \"233\": \"told\", \"234\": \"mentioned\", \"235\": \"repeating\", \"236\": \"saying\", \"237\": \"doesn\\'t\", \"238\": \"make\", \"239\": \"response\", \"240\": \"answer\", \"241\": \"stupid\", \"242\": \"crazy\", \"243\": \"live\", \"244\": \"location\", \"245\": \"let\\'s\", \"246\": \"we\", \"247\": \"ask\", \"248\": \"approaching\", \"249\": \"prepared\", \"250\": \"enough\", \"251\": \"sure\", \"252\": \"deserve\", \"253\": \"break\", \"254\": \"absolutely\", \"255\": \"hmmm\", \"256\": \"did\", \"257\": \"said\", \"258\": \"alot\", \"259\": \"now\", \"260\": \"again\", \"261\": \"i\\'ll\", \"262\": \"continue\", \"263\": \"practicing\", \"264\": \"meditation\", \"265\": \"focus\", \"266\": \"control\", \"267\": \"interested\", \"268\": \"learning\", \"269\": \"important\", \"270\": \"importance\", \"271\": \"mentally\", \"272\": \"ill\", \"273\": \"mean\", \"274\": \"affect\", \"275\": \"warning\", \"276\": \"signs\", \"277\": \"people\", \"278\": \"with\", \"279\": \"recover\", \"280\": \"appears\", \"281\": \"symptoms\", \"282\": \"disorder\", \"283\": \"options\", \"284\": \"available\", \"285\": \"become\", \"286\": \"involved\", \"287\": \"get\", \"288\": \"before\", \"289\": \"starting\", \"290\": \"new\", \"291\": \"medication\", \"292\": \"different\", \"293\": \"group\", \"294\": \"prevent\", \"295\": \"cures\", \"296\": \"cure\", \"297\": \"worried\", \"298\": \"unwell\", \"299\": \"maintain\", \"300\": \"social\", \"301\": \"connections\", \"302\": \"anxiety\", \"303\": \"stress\"}',\n",
       " 'word_index': '{\"i\": 1, \"you\": 2, \"what\": 3, \"mental\": 4, \"to\": 5, \"about\": 6, \"me\": 7, \"health\": 8, \"am\": 9, \"can\": 10, \"feel\": 11, \"are\": 12, \"do\": 13, \"is\": 14, \"my\": 15, \"a\": 16, \"don\\'t\": 17, \"for\": 18, \"the\": 19, \"so\": 20, \"have\": 21, \"i\\'m\": 22, \"want\": 23, \"how\": 24, \"of\": 25, \"that\": 26, \"know\": 27, \"can\\'t\": 28, \"it\": 29, \"depression\": 30, \"myself\": 31, \"help\": 32, \"who\": 33, \"tell\": 34, \"more\": 35, \"need\": 36, \"like\": 37, \"where\": 38, \"learn\": 39, \"if\": 40, \"there\": 41, \"good\": 42, \"no\": 43, \"not\": 44, \"talk\": 45, \"you\\'re\": 46, \"would\": 47, \"problems\": 48, \"and\": 49, \"illness\": 50, \"ok\": 51, \"much\": 52, \"name\": 53, \"go\": 54, \"lonely\": 55, \"stressed\": 56, \"because\": 57, \"away\": 58, \"some\": 59, \"all\": 60, \"else\": 61, \"exams\": 62, \"something\": 63, \"therapy\": 64, \"find\": 65, \"difference\": 66, \"between\": 67, \"bye\": 68, \"thank\": 69, \"that\\'s\": 70, \"very\": 71, \"nothing\": 72, \"yourself\": 73, \"your\": 74, \"should\": 75, \"what\\'s\": 76, \"support\": 77, \"out\": 78, \"depressed\": 79, \"think\": 80, \"yeah\": 81, \"just\": 82, \"sleep\": 83, \"sounds\": 84, \"this\": 85, \"died\": 86, \"passed\": 87, \"in\": 88, \"going\": 89, \"hate\": 90, \"right\": 91, \"advice\": 92, \"does\": 93, \"treatment\": 94, \"hi\": 95, \"hey\": 96, \"anyone\": 97, \"see\": 98, \"well\": 99, \"thanks\": 100, \"created\": 101, \"were\": 102, \"could\": 103, \"please\": 104, \"sad\": 105, \"anything\": 106, \"useless\": 107, \"sense\": 108, \"anymore\": 109, \"happy\": 110, \"fine\": 111, \"yes\": 112, \"really\": 113, \"anxious\": 114, \"up\": 115, \"suffering\": 116, \"from\": 117, \"haven\\'t\": 118, \"days\": 119, \"scared\": 120, \"someone\": 121, \"family\": 122, \"say\": 123, \"be\": 124, \"kill\": 125, \"i\\'ve\": 126, \"friends\": 127, \"joke\": 128, \"another\": 129, \"already\": 130, \"why\": 131, \"wrong\": 132, \"dumb\": 133, \"any\": 134, \"probably\": 135, \"guess\": 136, \"useful\": 137, \"better\": 138, \"on\": 139, \"fact\": 140, \"define\": 141, \"therapist\": 142, \"causes\": 143, \"professional\": 144, \"or\": 145, \"child\": 146, \"professionals\": 147, \"types\": 148, \"sadness\": 149, \"hello\": 150, \"howdy\": 151, \"hola\": 152, \"bonjour\": 153, \"konnichiwa\": 154, \"guten\": 155, \"tag\": 156, \"ola\": 157, \"morning\": 158, \"afternoon\": 159, \"evening\": 160, \"night\": 161, \"later\": 162, \"goodbye\": 163, \"au\": 164, \"revoir\": 165, \"sayonara\": 166, \"then\": 167, \"fare\": 168, \"thee\": 169, \"helpful\": 170, \"than\": 171, \"call\": 172, \"made\": 173, \"by\": 174, \"give\": 175, \"hand\": 176, \"feeling\": 177, \"down\": 178, \"empty\": 179, \"stuck\": 180, \"still\": 181, \"burned\": 182, \"worthless\": 183, \"one\": 184, \"likes\": 185, \"makes\": 186, \"take\": 187, \"great\": 188, \"today\": 189, \"cheerful\": 190, \"oh\": 191, \"okay\": 192, \"nice\": 193, \"whatever\": 194, \"k\": 195, \"stay\": 196, \"bring\": 197, \"open\": 198, \"shut\": 199, \"insominia\": 200, \"insomnia\": 201, \"slept\": 202, \"last\": 203, \"seem\": 204, \"had\": 205, \"proper\": 206, \"past\": 207, \"few\": 208, \"awful\": 209, \"way\": 210, \"mom\": 211, \"brother\": 212, \"dad\": 213, \"sister\": 214, \"friend\": 215, \"understand\": 216, \"robot\": 217, \"possibly\": 218, \"through\": 219, \"nobody\": 220, \"understands\": 221, \"thought\": 222, \"killing\": 223, \"die\": 224, \"commit\": 225, \"suicide\": 226, \"trust\": 227, \"relationship\": 228, \"boyfriend\": 229, \"girlfriend\": 230, \"money\": 231, \"financial\": 232, \"told\": 233, \"mentioned\": 234, \"repeating\": 235, \"saying\": 236, \"doesn\\'t\": 237, \"make\": 238, \"response\": 239, \"answer\": 240, \"stupid\": 241, \"crazy\": 242, \"live\": 243, \"location\": 244, \"let\\'s\": 245, \"we\": 246, \"ask\": 247, \"approaching\": 248, \"prepared\": 249, \"enough\": 250, \"sure\": 251, \"deserve\": 252, \"break\": 253, \"absolutely\": 254, \"hmmm\": 255, \"did\": 256, \"said\": 257, \"alot\": 258, \"now\": 259, \"again\": 260, \"i\\'ll\": 261, \"continue\": 262, \"practicing\": 263, \"meditation\": 264, \"focus\": 265, \"control\": 266, \"interested\": 267, \"learning\": 268, \"important\": 269, \"importance\": 270, \"mentally\": 271, \"ill\": 272, \"mean\": 273, \"affect\": 274, \"warning\": 275, \"signs\": 276, \"people\": 277, \"with\": 278, \"recover\": 279, \"appears\": 280, \"symptoms\": 281, \"disorder\": 282, \"options\": 283, \"available\": 284, \"become\": 285, \"involved\": 286, \"get\": 287, \"before\": 288, \"starting\": 289, \"new\": 290, \"medication\": 291, \"different\": 292, \"group\": 293, \"prevent\": 294, \"cures\": 295, \"cure\": 296, \"worried\": 297, \"unwell\": 298, \"maintain\": 299, \"social\": 300, \"connections\": 301, \"anxiety\": 302, \"stress\": 303}'}"
      ]
     },
     "execution_count": 8,
     "metadata": {},
     "output_type": "execute_result"
    }
   ],
   "source": [
    "from keras.preprocessing.text import Tokenizer\n",
    "\n",
    "tokenizer = Tokenizer(lower=True, split=' ')\n",
    "#  lists to be a token \n",
    "tokenizer.fit_on_texts(df['patterns'])\n",
    "# serialized JSON dictionary\n",
    "tokenizer.get_config()"
   ]
  },
  {
   "cell_type": "code",
   "execution_count": 9,
   "metadata": {},
   "outputs": [
    {
     "name": "stdout",
     "output_type": "stream",
     "text": [
      "number of unique words =  303\n"
     ]
    }
   ],
   "source": [
    "vacab_size = len(tokenizer.word_index)\n",
    "print('number of unique words = ', vacab_size)\n",
    "vacab_size = 1000"
   ]
  },
  {
   "cell_type": "code",
   "execution_count": 10,
   "metadata": {},
   "outputs": [
    {
     "name": "stdout",
     "output_type": "stream",
     "text": [
      "X shape =  (232, 18)\n",
      "y shape =  (232,)\n",
      "num of classes =  80\n"
     ]
    }
   ],
   "source": [
    "from keras.preprocessing.sequence import pad_sequences\n",
    "from sklearn.preprocessing import LabelEncoder\n",
    "\n",
    "ptrn2seq = tokenizer.texts_to_sequences(df['patterns'])\n",
    "X = pad_sequences(ptrn2seq, padding='post')\n",
    "print('X shape = ', X.shape)\n",
    "\n",
    "lbl_enc = LabelEncoder()\n",
    "y = lbl_enc.fit_transform(df['tag'])\n",
    "print('y shape = ', y.shape)\n",
    "print('num of classes = ', len(np.unique(y)))"
   ]
  },
  {
   "cell_type": "code",
   "execution_count": 11,
   "metadata": {},
   "outputs": [
    {
     "name": "stdout",
     "output_type": "stream",
     "text": [
      "Model: \"sequential\"\n",
      "_________________________________________________________________\n",
      " Layer (type)                Output Shape              Param #   \n",
      "=================================================================\n",
      " embedding (Embedding)       (None, 18, 100)           100100    \n",
      "                                                                 \n",
      " lstm (LSTM)                 (None, 18, 32)            17024     \n",
      "                                                                 \n",
      " layer_normalization (Layer  (None, 18, 32)            64        \n",
      " Normalization)                                                  \n",
      "                                                                 \n",
      " lstm_1 (LSTM)               (None, 18, 32)            8320      \n",
      "                                                                 \n",
      " layer_normalization_1 (Lay  (None, 18, 32)            64        \n",
      " erNormalization)                                                \n",
      "                                                                 \n",
      " lstm_2 (LSTM)               (None, 32)                8320      \n",
      "                                                                 \n",
      " layer_normalization_2 (Lay  (None, 32)                64        \n",
      " erNormalization)                                                \n",
      "                                                                 \n",
      " dense (Dense)               (None, 128)               4224      \n",
      "                                                                 \n",
      " layer_normalization_3 (Lay  (None, 128)               256       \n",
      " erNormalization)                                                \n",
      "                                                                 \n",
      " dropout (Dropout)           (None, 128)               0         \n",
      "                                                                 \n",
      " dense_1 (Dense)             (None, 80)                10320     \n",
      "                                                                 \n",
      "=================================================================\n",
      "Total params: 148756 (581.08 KB)\n",
      "Trainable params: 148756 (581.08 KB)\n",
      "Non-trainable params: 0 (0.00 Byte)\n",
      "_________________________________________________________________\n"
     ]
    }
   ],
   "source": [
    "import tensorflow\n",
    "from tensorflow import keras\n",
    "from keras.models import Sequential\n",
    "from keras.layers import Input, Embedding, LSTM, LayerNormalization, Dense, Dropout\n",
    "\n",
    "model = Sequential()\n",
    "model.add(Input(shape=(X.shape[1])))\n",
    "model.add(Embedding(input_dim=vacab_size+1, output_dim=100))\n",
    "model.add(LSTM(32, return_sequences=True))\n",
    "model.add(LayerNormalization())\n",
    "model.add(LSTM(32, return_sequences=True))\n",
    "model.add(LayerNormalization())\n",
    "model.add(LSTM(32))\n",
    "model.add(LayerNormalization())\n",
    "model.add(Dense(128, activation=\"relu\"))\n",
    "model.add(LayerNormalization())\n",
    "model.add(Dropout(0.2))\n",
    "model.add(Dense(len(np.unique(y)), activation=\"softmax\"))\n",
    "model.compile(optimizer='adam', loss=\"sparse_categorical_crossentropy\", metrics=['accuracy'])\n",
    "\n",
    "model.summary()"
   ]
  },
  {
   "cell_type": "code",
   "execution_count": 12,
   "metadata": {},
   "outputs": [
    {
     "name": "stdout",
     "output_type": "stream",
     "text": [
      "Epoch 1/100\n",
      "24/24 [==============================] - 5s 14ms/step - loss: 4.7986 - accuracy: 0.0086\n",
      "Epoch 2/100\n",
      "24/24 [==============================] - 1s 27ms/step - loss: 4.3142 - accuracy: 0.0388\n",
      "Epoch 3/100\n",
      "24/24 [==============================] - 0s 15ms/step - loss: 4.0378 - accuracy: 0.0560\n",
      "Epoch 4/100\n",
      "24/24 [==============================] - 0s 13ms/step - loss: 3.7878 - accuracy: 0.1034\n",
      "Epoch 5/100\n",
      "24/24 [==============================] - 0s 13ms/step - loss: 3.4174 - accuracy: 0.1681\n",
      "Epoch 6/100\n",
      "24/24 [==============================] - 0s 13ms/step - loss: 3.1723 - accuracy: 0.1681\n",
      "Epoch 7/100\n",
      "24/24 [==============================] - 0s 13ms/step - loss: 2.6414 - accuracy: 0.2974\n",
      "Epoch 8/100\n",
      "24/24 [==============================] - 0s 14ms/step - loss: 2.3569 - accuracy: 0.3966\n",
      "Epoch 9/100\n",
      "24/24 [==============================] - 0s 20ms/step - loss: 2.0750 - accuracy: 0.4655\n",
      "Epoch 10/100\n",
      "24/24 [==============================] - 0s 13ms/step - loss: 1.6399 - accuracy: 0.6164\n",
      "Epoch 11/100\n",
      "24/24 [==============================] - 0s 15ms/step - loss: 1.4286 - accuracy: 0.6983\n",
      "Epoch 12/100\n",
      "24/24 [==============================] - 0s 19ms/step - loss: 1.3519 - accuracy: 0.6379\n",
      "Epoch 13/100\n",
      "24/24 [==============================] - 1s 22ms/step - loss: 1.0342 - accuracy: 0.7629\n",
      "Epoch 14/100\n",
      "24/24 [==============================] - 0s 14ms/step - loss: 0.8712 - accuracy: 0.8534\n",
      "Epoch 15/100\n",
      "24/24 [==============================] - 0s 18ms/step - loss: 0.6948 - accuracy: 0.8664\n",
      "Epoch 16/100\n",
      "24/24 [==============================] - 0s 15ms/step - loss: 0.5295 - accuracy: 0.9181\n",
      "Epoch 17/100\n",
      "24/24 [==============================] - 0s 14ms/step - loss: 0.4737 - accuracy: 0.9267\n",
      "Epoch 18/100\n",
      "24/24 [==============================] - 0s 14ms/step - loss: 0.4485 - accuracy: 0.9440\n",
      "Epoch 19/100\n",
      "24/24 [==============================] - 0s 16ms/step - loss: 0.3372 - accuracy: 0.9526\n",
      "Epoch 20/100\n",
      "24/24 [==============================] - 0s 13ms/step - loss: 0.2780 - accuracy: 0.9569\n",
      "Epoch 21/100\n",
      "24/24 [==============================] - 0s 13ms/step - loss: 0.3155 - accuracy: 0.9612\n",
      "Epoch 22/100\n",
      "24/24 [==============================] - 1s 28ms/step - loss: 0.2198 - accuracy: 0.9698\n",
      "Epoch 23/100\n",
      "24/24 [==============================] - 1s 43ms/step - loss: 0.1554 - accuracy: 0.9957\n",
      "Epoch 24/100\n",
      "24/24 [==============================] - 1s 42ms/step - loss: 0.1445 - accuracy: 0.9871\n",
      "Epoch 25/100\n",
      "24/24 [==============================] - 1s 44ms/step - loss: 0.1362 - accuracy: 0.9828\n",
      "Epoch 26/100\n",
      "24/24 [==============================] - 1s 41ms/step - loss: 0.1249 - accuracy: 0.9914\n"
     ]
    }
   ],
   "source": [
    "model_history = model.fit(x=X,\n",
    "                          y=y,\n",
    "                          batch_size=10,\n",
    "                          callbacks=[tensorflow.keras.callbacks.EarlyStopping(monitor='accuracy', patience=3)],\n",
    "                          epochs=100)"
   ]
  },
  {
   "cell_type": "code",
   "execution_count": 13,
   "metadata": {},
   "outputs": [],
   "source": [
    "import re\n",
    "import random\n",
    "\n",
    "\n",
    "def generate_answer(): \n",
    "    while True:\n",
    "        pattern=input()\n",
    "        text = []\n",
    "        txt = re.sub('[^a-zA-Z\\']', ' ', pattern)\n",
    "        txt = txt.lower()\n",
    "        txt = txt.split()\n",
    "        txt = \" \".join(txt)\n",
    "        text.append(txt)\n",
    "\n",
    "        x_test = tokenizer.texts_to_sequences([text])  # Note the extra brackets\n",
    "        x_test = pad_sequences(x_test, padding='post', maxlen=X.shape[1])\n",
    "        y_pred = model.predict(x_test)\n",
    "        y_pred = y_pred.argmax()\n",
    "        tag = lbl_enc.inverse_transform([y_pred])[0]\n",
    "        responses = df[df['tag'] == tag]['responses'].values[0]\n",
    "        print(\"model: {}\".format(random.choice(responses)))\n",
    "        if pattern=='quite':\n",
    "            break;"
   ]
  },
  {
   "cell_type": "code",
   "execution_count": 14,
   "metadata": {},
   "outputs": [
    {
     "name": "stdout",
     "output_type": "stream",
     "text": [
      "1/1 [==============================] - 1s 782ms/step\n",
      "model: Hello there. Tell me how are you feeling today?\n",
      "1/1 [==============================] - 0s 15ms/step\n",
      "model: I'm listening. Please go on.\n",
      "1/1 [==============================] - 0s 15ms/step\n",
      "model: I'm listening. Please go on.\n",
      "1/1 [==============================] - 0s 14ms/step\n",
      "model: Come Come elucidate your thoughts\n"
     ]
    }
   ],
   "source": [
    "generate_answer()"
   ]
  }
 ],
 "metadata": {
  "kernelspec": {
   "display_name": "Python 3",
   "language": "python",
   "name": "python3"
  },
  "language_info": {
   "codemirror_mode": {
    "name": "ipython",
    "version": 3
   },
   "file_extension": ".py",
   "mimetype": "text/x-python",
   "name": "python",
   "nbconvert_exporter": "python",
   "pygments_lexer": "ipython3",
   "version": "3.10.13"
  }
 },
 "nbformat": 4,
 "nbformat_minor": 2
}
